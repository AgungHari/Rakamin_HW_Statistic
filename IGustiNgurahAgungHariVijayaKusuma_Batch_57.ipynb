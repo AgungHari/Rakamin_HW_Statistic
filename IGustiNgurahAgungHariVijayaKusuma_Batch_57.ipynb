{
 "cells": [
  {
   "cell_type": "markdown",
   "metadata": {},
   "source": [
    "# Homework Statistic\n"
   ]
  },
  {
   "cell_type": "markdown",
   "metadata": {},
   "source": [
    "## Soal Pertama (10 poin)\n",
    "\n",
    "Tunjukkan statistika deskriptif untuk variabel harga rumah\n",
    "(Column Name : SalePrice)!\n",
    "\n",
    "Ceritakan kepada tim bisnis apa makna dari nilai nilai\n",
    "tersebut!\n",
    "\n",
    "Ekspektasi output :\n",
    "- ukuran pemusatan (4 poin)\n",
    "- ukuran penyebaran (4 poin)\n",
    "- Interpretasi (2 poin)"
   ]
  },
  {
   "cell_type": "code",
   "execution_count": null,
   "metadata": {
    "vscode": {
     "languageId": "plaintext"
    }
   },
   "outputs": [],
   "source": []
  },
  {
   "cell_type": "markdown",
   "metadata": {},
   "source": [
    "## Soal Kedua (25 poin)\n",
    "\n",
    "Tunjukkan statistika deskriptif untuk variabel harga rumah\n",
    "(Column Name : SalePrice) setiap tahunnya (Column Name :\n",
    "YrSold)!\n",
    "\n",
    "Secara deskriptif jelaskan apakah ada perbedaan setiap\n",
    "tahunnya atau tidak?\n",
    "\n",
    "Ekspektasi output:\n",
    "- ukuran pemusatan (10 poin)\n",
    "- ukuran penyebaran (10 poin)\n",
    "- Interpretasi (5 poin)"
   ]
  },
  {
   "cell_type": "code",
   "execution_count": null,
   "metadata": {
    "vscode": {
     "languageId": "plaintext"
    }
   },
   "outputs": [],
   "source": []
  },
  {
   "cell_type": "markdown",
   "metadata": {},
   "source": [
    "## Soal Ketiga (25 poin)\n",
    "\n",
    "Bagaimana distribusi harga rumah tersebut. Gunakan histogram plot\n",
    "tidak terbatas hanya histogram saja. Jelaskan sebaiknya untuk\n",
    "analisa apakah lebih baik menggunakan mean atau menggunakan\n",
    "median? Beserta alasannya (Column Name : SalePrice)\n",
    "\n",
    "Ceritakan analisa tersebut dengan sudut pandang statistika. Buatlah\n",
    "tim bisnis paham maksud dari grafik histogram tersebut.\n",
    "\n",
    "Ekspektasi :\n",
    "- Grafik Histogram (8 poin)\n",
    "- Analisa (12 poin)\n",
    "- Interpretasi (5 poin)\n"
   ]
  },
  {
   "cell_type": "code",
   "execution_count": null,
   "metadata": {
    "vscode": {
     "languageId": "plaintext"
    }
   },
   "outputs": [],
   "source": []
  },
  {
   "cell_type": "markdown",
   "metadata": {},
   "source": [
    "## Soal Keempat (30 poin)\n",
    "\n",
    "Karena ada pernyataan bahwa setiap tahunnya harga\n",
    "rumah itu pasti naik. (tahun terjual : YrSold, harga rumah :\n",
    "SalePrice) Silahkan teman-teman buktikan dengan data yang\n",
    "ada menggunakan ilmu statistika? (Tidak terbatas pada\n",
    "pengujian apapun)\n",
    "\n",
    "Ekspektasi :\n",
    "- Penentuan hipotesis (5 poin)\n",
    "- Pengujian yang digunakan (5 poin)\n",
    "-  Hasil pengujian hipotesis (10 poin)\n",
    "- Kesimpulan dan interpretasi (10 poin)\n"
   ]
  },
  {
   "cell_type": "code",
   "execution_count": null,
   "metadata": {
    "vscode": {
     "languageId": "plaintext"
    }
   },
   "outputs": [],
   "source": []
  },
  {
   "cell_type": "markdown",
   "metadata": {},
   "source": [
    "## Soal (10 Poin)\n",
    "\n",
    "Kasus yang akan digunakan adalah membuka akun deposit untuk\n",
    "nasabah bank. Pada kesempatan kali ini data scientist diminta tolong\n",
    "untuk menganalisa hasil ab-testing suatu perusahaan bank. Apakah\n",
    "jumlah campaign mampu meningkatkan keinginan user untuk\n",
    "membuka akun deposit atau tidak?\n",
    "\n",
    "Data yang digunakan berasal dari folder bank.zip file yang digunakan\n",
    "adalah bank-full.csv\n",
    "\n",
    "1. Untuk variabel jumlah campaign bisa dicek untuk kolom\n",
    "campaign\n",
    "2. untuk variabel apakah akhirnya user membuka akun atau tidak\n",
    "bisa menggunakan variabel y\n",
    "\n",
    "## Ekspektasi Hasil Analisa\n",
    "\n",
    "## Pemahaman konsep A/B Testing (5 poin)\n",
    "- Apa nama experimentnya?\n",
    "-  Definisikan Hipotesis\n",
    "-  Siapa participant-nya?\n",
    "-  Variabel yang akan diuji apa?\n",
    "-  Metrics apa yang akan digunakan?\n",
    "-  Berapa sample size dan durasi experiment?\n",
    "\n",
    "## Pengujian Hipotesis (5 poin)\n",
    "-  Penentuan hipotesis\n",
    "-  Pengujian yang digunakan\n",
    "-  Deteksi asumsi beserta cara penanganannya\n",
    "-  Hasil pengujian hipotesis\n",
    "-  Kesimpulan dan interpretasi"
   ]
  },
  {
   "cell_type": "code",
   "execution_count": null,
   "metadata": {
    "vscode": {
     "languageId": "plaintext"
    }
   },
   "outputs": [],
   "source": []
  }
 ],
 "metadata": {
  "language_info": {
   "name": "python"
  }
 },
 "nbformat": 4,
 "nbformat_minor": 2
}
