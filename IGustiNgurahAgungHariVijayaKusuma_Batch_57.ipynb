{
 "cells": [
  {
   "cell_type": "markdown",
   "metadata": {},
   "source": [
    "# Homework Statistic\n"
   ]
  },
  {
   "cell_type": "markdown",
   "metadata": {},
   "source": [
    "## I Gusti Ngurah Agung Hari Vijaya Kusuma / Batch 57"
   ]
  },
  {
   "cell_type": "markdown",
   "metadata": {},
   "source": [
    "---"
   ]
  },
  {
   "cell_type": "markdown",
   "metadata": {},
   "source": [
    "# Soal Pertama (10 poin)\n",
    "\n",
    "Tunjukkan statistika deskriptif untuk variabel harga rumah\n",
    "(Column Name : SalePrice)!\n",
    "\n",
    "Ceritakan kepada tim bisnis apa makna dari nilai nilai\n",
    "tersebut!\n",
    "\n",
    "Ekspektasi output :\n",
    "- ukuran pemusatan (4 poin)\n",
    "- ukuran penyebaran (4 poin)\n",
    "- Interpretasi (2 poin)"
   ]
  },
  {
   "cell_type": "code",
   "execution_count": 15,
   "metadata": {},
   "outputs": [
    {
     "data": {
      "text/html": [
       "<div>\n",
       "<style scoped>\n",
       "    .dataframe tbody tr th:only-of-type {\n",
       "        vertical-align: middle;\n",
       "    }\n",
       "\n",
       "    .dataframe tbody tr th {\n",
       "        vertical-align: top;\n",
       "    }\n",
       "\n",
       "    .dataframe thead th {\n",
       "        text-align: right;\n",
       "    }\n",
       "</style>\n",
       "<table border=\"1\" class=\"dataframe\">\n",
       "  <thead>\n",
       "    <tr style=\"text-align: right;\">\n",
       "      <th></th>\n",
       "      <th>Id</th>\n",
       "      <th>MSSubClass</th>\n",
       "      <th>LotFrontage</th>\n",
       "      <th>LotArea</th>\n",
       "      <th>OverallQual</th>\n",
       "      <th>OverallCond</th>\n",
       "      <th>YearBuilt</th>\n",
       "      <th>YearRemodAdd</th>\n",
       "      <th>MasVnrArea</th>\n",
       "      <th>BsmtFinSF1</th>\n",
       "      <th>...</th>\n",
       "      <th>WoodDeckSF</th>\n",
       "      <th>OpenPorchSF</th>\n",
       "      <th>EnclosedPorch</th>\n",
       "      <th>3SsnPorch</th>\n",
       "      <th>ScreenPorch</th>\n",
       "      <th>PoolArea</th>\n",
       "      <th>MiscVal</th>\n",
       "      <th>MoSold</th>\n",
       "      <th>YrSold</th>\n",
       "      <th>SalePrice</th>\n",
       "    </tr>\n",
       "  </thead>\n",
       "  <tbody>\n",
       "    <tr>\n",
       "      <th>count</th>\n",
       "      <td>1460.000000</td>\n",
       "      <td>1460.000000</td>\n",
       "      <td>1201.000000</td>\n",
       "      <td>1460.000000</td>\n",
       "      <td>1460.000000</td>\n",
       "      <td>1460.000000</td>\n",
       "      <td>1460.000000</td>\n",
       "      <td>1460.000000</td>\n",
       "      <td>1452.000000</td>\n",
       "      <td>1460.000000</td>\n",
       "      <td>...</td>\n",
       "      <td>1460.000000</td>\n",
       "      <td>1460.000000</td>\n",
       "      <td>1460.000000</td>\n",
       "      <td>1460.000000</td>\n",
       "      <td>1460.000000</td>\n",
       "      <td>1460.000000</td>\n",
       "      <td>1460.000000</td>\n",
       "      <td>1460.000000</td>\n",
       "      <td>1460.000000</td>\n",
       "      <td>1460.000000</td>\n",
       "    </tr>\n",
       "    <tr>\n",
       "      <th>mean</th>\n",
       "      <td>730.500000</td>\n",
       "      <td>56.897260</td>\n",
       "      <td>70.049958</td>\n",
       "      <td>10516.828082</td>\n",
       "      <td>6.099315</td>\n",
       "      <td>5.575342</td>\n",
       "      <td>1971.267808</td>\n",
       "      <td>1984.865753</td>\n",
       "      <td>103.685262</td>\n",
       "      <td>443.639726</td>\n",
       "      <td>...</td>\n",
       "      <td>94.244521</td>\n",
       "      <td>46.660274</td>\n",
       "      <td>21.954110</td>\n",
       "      <td>3.409589</td>\n",
       "      <td>15.060959</td>\n",
       "      <td>2.758904</td>\n",
       "      <td>43.489041</td>\n",
       "      <td>6.321918</td>\n",
       "      <td>2007.815753</td>\n",
       "      <td>180921.195890</td>\n",
       "    </tr>\n",
       "    <tr>\n",
       "      <th>std</th>\n",
       "      <td>421.610009</td>\n",
       "      <td>42.300571</td>\n",
       "      <td>24.284752</td>\n",
       "      <td>9981.264932</td>\n",
       "      <td>1.382997</td>\n",
       "      <td>1.112799</td>\n",
       "      <td>30.202904</td>\n",
       "      <td>20.645407</td>\n",
       "      <td>181.066207</td>\n",
       "      <td>456.098091</td>\n",
       "      <td>...</td>\n",
       "      <td>125.338794</td>\n",
       "      <td>66.256028</td>\n",
       "      <td>61.119149</td>\n",
       "      <td>29.317331</td>\n",
       "      <td>55.757415</td>\n",
       "      <td>40.177307</td>\n",
       "      <td>496.123024</td>\n",
       "      <td>2.703626</td>\n",
       "      <td>1.328095</td>\n",
       "      <td>79442.502883</td>\n",
       "    </tr>\n",
       "    <tr>\n",
       "      <th>min</th>\n",
       "      <td>1.000000</td>\n",
       "      <td>20.000000</td>\n",
       "      <td>21.000000</td>\n",
       "      <td>1300.000000</td>\n",
       "      <td>1.000000</td>\n",
       "      <td>1.000000</td>\n",
       "      <td>1872.000000</td>\n",
       "      <td>1950.000000</td>\n",
       "      <td>0.000000</td>\n",
       "      <td>0.000000</td>\n",
       "      <td>...</td>\n",
       "      <td>0.000000</td>\n",
       "      <td>0.000000</td>\n",
       "      <td>0.000000</td>\n",
       "      <td>0.000000</td>\n",
       "      <td>0.000000</td>\n",
       "      <td>0.000000</td>\n",
       "      <td>0.000000</td>\n",
       "      <td>1.000000</td>\n",
       "      <td>2006.000000</td>\n",
       "      <td>34900.000000</td>\n",
       "    </tr>\n",
       "    <tr>\n",
       "      <th>25%</th>\n",
       "      <td>365.750000</td>\n",
       "      <td>20.000000</td>\n",
       "      <td>59.000000</td>\n",
       "      <td>7553.500000</td>\n",
       "      <td>5.000000</td>\n",
       "      <td>5.000000</td>\n",
       "      <td>1954.000000</td>\n",
       "      <td>1967.000000</td>\n",
       "      <td>0.000000</td>\n",
       "      <td>0.000000</td>\n",
       "      <td>...</td>\n",
       "      <td>0.000000</td>\n",
       "      <td>0.000000</td>\n",
       "      <td>0.000000</td>\n",
       "      <td>0.000000</td>\n",
       "      <td>0.000000</td>\n",
       "      <td>0.000000</td>\n",
       "      <td>0.000000</td>\n",
       "      <td>5.000000</td>\n",
       "      <td>2007.000000</td>\n",
       "      <td>129975.000000</td>\n",
       "    </tr>\n",
       "    <tr>\n",
       "      <th>50%</th>\n",
       "      <td>730.500000</td>\n",
       "      <td>50.000000</td>\n",
       "      <td>69.000000</td>\n",
       "      <td>9478.500000</td>\n",
       "      <td>6.000000</td>\n",
       "      <td>5.000000</td>\n",
       "      <td>1973.000000</td>\n",
       "      <td>1994.000000</td>\n",
       "      <td>0.000000</td>\n",
       "      <td>383.500000</td>\n",
       "      <td>...</td>\n",
       "      <td>0.000000</td>\n",
       "      <td>25.000000</td>\n",
       "      <td>0.000000</td>\n",
       "      <td>0.000000</td>\n",
       "      <td>0.000000</td>\n",
       "      <td>0.000000</td>\n",
       "      <td>0.000000</td>\n",
       "      <td>6.000000</td>\n",
       "      <td>2008.000000</td>\n",
       "      <td>163000.000000</td>\n",
       "    </tr>\n",
       "    <tr>\n",
       "      <th>75%</th>\n",
       "      <td>1095.250000</td>\n",
       "      <td>70.000000</td>\n",
       "      <td>80.000000</td>\n",
       "      <td>11601.500000</td>\n",
       "      <td>7.000000</td>\n",
       "      <td>6.000000</td>\n",
       "      <td>2000.000000</td>\n",
       "      <td>2004.000000</td>\n",
       "      <td>166.000000</td>\n",
       "      <td>712.250000</td>\n",
       "      <td>...</td>\n",
       "      <td>168.000000</td>\n",
       "      <td>68.000000</td>\n",
       "      <td>0.000000</td>\n",
       "      <td>0.000000</td>\n",
       "      <td>0.000000</td>\n",
       "      <td>0.000000</td>\n",
       "      <td>0.000000</td>\n",
       "      <td>8.000000</td>\n",
       "      <td>2009.000000</td>\n",
       "      <td>214000.000000</td>\n",
       "    </tr>\n",
       "    <tr>\n",
       "      <th>max</th>\n",
       "      <td>1460.000000</td>\n",
       "      <td>190.000000</td>\n",
       "      <td>313.000000</td>\n",
       "      <td>215245.000000</td>\n",
       "      <td>10.000000</td>\n",
       "      <td>9.000000</td>\n",
       "      <td>2010.000000</td>\n",
       "      <td>2010.000000</td>\n",
       "      <td>1600.000000</td>\n",
       "      <td>5644.000000</td>\n",
       "      <td>...</td>\n",
       "      <td>857.000000</td>\n",
       "      <td>547.000000</td>\n",
       "      <td>552.000000</td>\n",
       "      <td>508.000000</td>\n",
       "      <td>480.000000</td>\n",
       "      <td>738.000000</td>\n",
       "      <td>15500.000000</td>\n",
       "      <td>12.000000</td>\n",
       "      <td>2010.000000</td>\n",
       "      <td>755000.000000</td>\n",
       "    </tr>\n",
       "  </tbody>\n",
       "</table>\n",
       "<p>8 rows × 38 columns</p>\n",
       "</div>"
      ],
      "text/plain": [
       "                Id   MSSubClass  LotFrontage        LotArea  OverallQual  \\\n",
       "count  1460.000000  1460.000000  1201.000000    1460.000000  1460.000000   \n",
       "mean    730.500000    56.897260    70.049958   10516.828082     6.099315   \n",
       "std     421.610009    42.300571    24.284752    9981.264932     1.382997   \n",
       "min       1.000000    20.000000    21.000000    1300.000000     1.000000   \n",
       "25%     365.750000    20.000000    59.000000    7553.500000     5.000000   \n",
       "50%     730.500000    50.000000    69.000000    9478.500000     6.000000   \n",
       "75%    1095.250000    70.000000    80.000000   11601.500000     7.000000   \n",
       "max    1460.000000   190.000000   313.000000  215245.000000    10.000000   \n",
       "\n",
       "       OverallCond    YearBuilt  YearRemodAdd   MasVnrArea   BsmtFinSF1  ...  \\\n",
       "count  1460.000000  1460.000000   1460.000000  1452.000000  1460.000000  ...   \n",
       "mean      5.575342  1971.267808   1984.865753   103.685262   443.639726  ...   \n",
       "std       1.112799    30.202904     20.645407   181.066207   456.098091  ...   \n",
       "min       1.000000  1872.000000   1950.000000     0.000000     0.000000  ...   \n",
       "25%       5.000000  1954.000000   1967.000000     0.000000     0.000000  ...   \n",
       "50%       5.000000  1973.000000   1994.000000     0.000000   383.500000  ...   \n",
       "75%       6.000000  2000.000000   2004.000000   166.000000   712.250000  ...   \n",
       "max       9.000000  2010.000000   2010.000000  1600.000000  5644.000000  ...   \n",
       "\n",
       "        WoodDeckSF  OpenPorchSF  EnclosedPorch    3SsnPorch  ScreenPorch  \\\n",
       "count  1460.000000  1460.000000    1460.000000  1460.000000  1460.000000   \n",
       "mean     94.244521    46.660274      21.954110     3.409589    15.060959   \n",
       "std     125.338794    66.256028      61.119149    29.317331    55.757415   \n",
       "min       0.000000     0.000000       0.000000     0.000000     0.000000   \n",
       "25%       0.000000     0.000000       0.000000     0.000000     0.000000   \n",
       "50%       0.000000    25.000000       0.000000     0.000000     0.000000   \n",
       "75%     168.000000    68.000000       0.000000     0.000000     0.000000   \n",
       "max     857.000000   547.000000     552.000000   508.000000   480.000000   \n",
       "\n",
       "          PoolArea       MiscVal       MoSold       YrSold      SalePrice  \n",
       "count  1460.000000   1460.000000  1460.000000  1460.000000    1460.000000  \n",
       "mean      2.758904     43.489041     6.321918  2007.815753  180921.195890  \n",
       "std      40.177307    496.123024     2.703626     1.328095   79442.502883  \n",
       "min       0.000000      0.000000     1.000000  2006.000000   34900.000000  \n",
       "25%       0.000000      0.000000     5.000000  2007.000000  129975.000000  \n",
       "50%       0.000000      0.000000     6.000000  2008.000000  163000.000000  \n",
       "75%       0.000000      0.000000     8.000000  2009.000000  214000.000000  \n",
       "max     738.000000  15500.000000    12.000000  2010.000000  755000.000000  \n",
       "\n",
       "[8 rows x 38 columns]"
      ]
     },
     "execution_count": 15,
     "metadata": {},
     "output_type": "execute_result"
    }
   ],
   "source": [
    "import pandas as pd\n",
    "import matplotlib.pyplot as plt\n",
    "import seaborn as sns\n",
    "\n",
    "agung = pd.read_csv(r'Dataset_Homework_1-4\\train.csv')\n",
    "agung.describe()"
   ]
  },
  {
   "cell_type": "code",
   "execution_count": 21,
   "metadata": {},
   "outputs": [
    {
     "data": {
      "text/plain": [
       "count      1460.000000\n",
       "mean     180921.195890\n",
       "std       79442.502883\n",
       "min       34900.000000\n",
       "25%      129975.000000\n",
       "50%      163000.000000\n",
       "75%      214000.000000\n",
       "max      755000.000000\n",
       "Name: SalePrice, dtype: float64"
      ]
     },
     "execution_count": 21,
     "metadata": {},
     "output_type": "execute_result"
    }
   ],
   "source": [
    "agung['SalePrice'].describe()"
   ]
  },
  {
   "cell_type": "code",
   "execution_count": 22,
   "metadata": {},
   "outputs": [
    {
     "name": "stdout",
     "output_type": "stream",
     "text": [
      "Range of SalePrice: 720100\n",
      "Variance of SalePrice: 6311111264.297448\n"
     ]
    }
   ],
   "source": [
    "nilai_range = agung['SalePrice'].max() - agung['SalePrice'].min()\n",
    "print(f\"Range of SalePrice: {nilai_range}\")\n",
    "nilai_variance = agung['SalePrice'].var()\n",
    "print(f\"Variance of SalePrice: {nilai_variance}\")"
   ]
  },
  {
   "cell_type": "code",
   "execution_count": 25,
   "metadata": {},
   "outputs": [
    {
     "data": {
      "image/png": "[encoded data removed]",
      "text/plain": [
       "<Figure size 640x480 with 1 Axes>"
      ]
     },
     "metadata": {},
     "output_type": "display_data"
    }
   ],
   "source": [
    "plt.hist(agung['SalePrice'])\n",
    "plt.show()"
   ]
  },
  {
   "cell_type": "code",
   "execution_count": 96,
   "metadata": {},
   "outputs": [
    {
     "data": {
      "image/png": "[encoded data removed]",
      "text/plain": [
       "<Figure size 1000x600 with 1 Axes>"
      ]
     },
     "metadata": {},
     "output_type": "display_data"
    }
   ],
   "source": [
    "#plot interquartile range\n",
    "plt.figure(figsize=(10, 6))\n",
    "sns.boxplot(x=agung['SalePrice'])\n",
    "plt.title('Boxplot of SalePrice')\n",
    "plt.xlabel('SalePrice')\n",
    "plt.show()"
   ]
  },
  {
   "cell_type": "code",
   "execution_count": 41,
   "metadata": {},
   "outputs": [
    {
     "name": "stdout",
     "output_type": "stream",
     "text": [
      "Interquartile Range of SalePrice: 84025.0\n",
      "Upper Bound: 340037.5\n",
      "Lower Bound: 3937.5\n"
     ]
    }
   ],
   "source": [
    "inter_quartile_range = agung['SalePrice'].quantile(0.75) - agung['SalePrice'].quantile(0.25)\n",
    "print(f\"Interquartile Range of SalePrice: {inter_quartile_range}\")\n",
    "\n",
    "batas_atas = agung['SalePrice'].quantile(0.75) + 1.5 * inter_quartile_range\n",
    "batas_bawah = agung['SalePrice'].quantile(0.25) - 1.5 * inter_quartile_range\n",
    "print(f\"Upper Bound: {batas_atas}\")\n",
    "print(f\"Lower Bound: {batas_bawah}\")"
   ]
  },
  {
   "cell_type": "markdown",
   "metadata": {},
   "source": [
    "### `Interpretasi`\n",
    "\n",
    "- Terdapat **1.460 data** pada kolom SalePrice, yang berarti **tidak ada missing value**.\n",
    "- Nilai **mean** adalah **$180,921.20** dan **median** adalah **$163,000.00**, menunjukkan bahwa distribusi data **tidak simetris**.\n",
    "- Karena **mean lebih besar dari median**, maka distribusi data bersifat **positively skewed** (miring ke kanan).\n",
    "- Distribusi harga rumah tidak simetris, dengan nilai rata-rata yang tertarik ke atas akibat keberadaan rumah-rumah dengan harga sangat tinggi (**outlier**).\n",
    "- Dalam kondisi seperti ini, **median lebih representatif** sebagai ukuran pemusatan dibandingkan mean karena lebih tahan terhadap outlier.\n",
    "- **Harga terendah** adalah **$34,900.00** dan **harga tertinggi** adalah **$755,000.00**, menghasilkan **range sebesar $720,100.00**.\n",
    "- **Standar deviasi** sebesar **$79,442.50** menunjukkan bahwa **harga rumah sangat bervariasi** dari nilai rata-rata.\n",
    "- **Interquartile Range (IQR)** adalah **$84,025.00**, yaitu selisih antara **kuartil ketiga ($214,000.00)** dan **kuartil pertama ($129,975.00)**.\n",
    "  - dengan kuartil kita tahu bahwa **50% rumah** memiliki harga **berada di antara $129,975.00 dan $214,000.00**.\n",
    "  - IQR menunjukkan **sebaran harga rumah di tengah populasi**, tanpa terpengaruh oleh nilai ekstrem (outlier).\n",
    "- Berdasarkan metode IQR, sebuah harga rumah dianggap sebagai **outlier** apabila:\n",
    "  - Di atas **$340,037.50** *(upper bound)*\n",
    "  - Di bawah **$3,937.50** *(lower bound)*\n",
    "- Dari hasil boxplot:\n",
    "  - Terdapat **banyak rumah dengan harga di atas upper bound**, menandakan adanya **outlier mahal**.\n",
    "  - **Tidak ada rumah** dengan harga di bawah lower bound, karena harga rumah termurah adalah **$34,900.00**, jauh di atas batas bawah tersebut.\n",
    "\n",
    "---\n",
    "\n"
   ]
  },
  {
   "cell_type": "markdown",
   "metadata": {},
   "source": [
    "### `Untuk Tim Bisnis :`\n",
    "\n",
    "### Berdasarkan analisis terhadap data harga rumah (SalePrice), saya menemukan beberapa hal penting yang perlu menjadi perhatian:\n",
    "\n",
    "1. Seluruh data harga rumah **lengkap tanpa nilai yang hilang** (missing value), sehingga dapat digunakan sepenuhnya untuk analisis dan pengambilan keputusan.\n",
    "\n",
    "2. Distribusi harga rumah **tidak merata**. Rata-rata harga rumah saat ini adalah sekitar **$180,921**, namun mayoritas rumah berada di kisaran **$163,000**. Ini menunjukkan bahwa ada sejumlah rumah dengan harga sangat tinggi yang **mendorong rata-rata naik**, meskipun sebagian besar rumah berada di bawah angka tersebut.\n",
    "\n",
    "3. Hal ini mengindikasikan bahwa harga rumah terdistribusi **miring ke kanan (positively skewed)**. Oleh karena itu, **median (Q2)** lebih tepat digunakan untuk merepresentasikan harga mayoritas rumah di pasar dibandingkan rata-rata.\n",
    "\n",
    "4. Saya juga menemukan bahwa harga rumah **sangat bervariasi**, dengan harga terendah sebesar **$34,900** dan harga tertinggi mencapai **$755,000**. Rentang harga ini menunjukkan adanya **perbedaan yang signifikan dalam segmen pasar**.\n",
    "\n",
    "5. Secara statistik, **50% rumah** berada dalam rentang harga **$129,975 hingga $214,000**. Rentang ini dapat dianggap sebagai **segmen pasar utama atau harga tipikal** bagi konsumen pada umumnya.\n",
    "\n",
    "6. Berdasarkan metode IQR, rumah yang dijual dengan harga di atas **$340,037** termasuk dalam kategori **outlier mahal**. Dan benar saja, dari visualisasi boxplot, ditemukan banyak rumah dalam kategori ini.\n",
    "\n",
    "7. Tidak ditemukan rumah dengan harga di bawah ambang batas bawah (**$3,937**), sehingga outlier hanya terjadi di sisi harga yang **sangat tinggi**.\n",
    "\n",
    "---\n",
    "\n",
    "### `Implikasi Bisnis`\n",
    "\n",
    "1. **Tim penjualan dan pemasaran** sebaiknya berfokus pada rentang harga **$129,975 – $214,000**, karena inilah **segmen utama pasar** yang mencerminkan mayoritas pembeli.\n",
    "\n",
    "2. Rumah dengan harga di atas **$340,000** mungkin memerlukan **strategi pemasaran khusus**, karena termasuk dalam kategori **high end** yang tidak merepresentasikan pasar umum.\n",
    "\n",
    "3. Dalam pelaporan, forecasting, atau evaluasi performa harga rumah, **disarankan untuk menggunakan median** sebagai ukuran utama, agar tidak bias akibat keberadaan rumah-rumah dengan harga ekstrem yang tergolong outlier.\n",
    "\n",
    "---"
   ]
  },
  {
   "cell_type": "markdown",
   "metadata": {},
   "source": [
    "---"
   ]
  },
  {
   "cell_type": "markdown",
   "metadata": {},
   "source": [
    "# Soal Kedua (25 poin)\n",
    "\n",
    "Tunjukkan statistika deskriptif untuk variabel harga rumah\n",
    "(Column Name : SalePrice) setiap tahunnya (Column Name :\n",
    "YrSold)!\n",
    "\n",
    "Secara deskriptif jelaskan apakah ada perbedaan setiap\n",
    "tahunnya atau tidak?\n",
    "\n",
    "Ekspektasi output:\n",
    "- ukuran pemusatan (10 poin)\n",
    "- ukuran penyebaran (10 poin)\n",
    "- Interpretasi (5 poin)"
   ]
  },
  {
   "cell_type": "code",
   "execution_count": 93,
   "metadata": {},
   "outputs": [
    {
     "data": {
      "text/html": [
       "<div>\n",
       "<style scoped>\n",
       "    .dataframe tbody tr th:only-of-type {\n",
       "        vertical-align: middle;\n",
       "    }\n",
       "\n",
       "    .dataframe tbody tr th {\n",
       "        vertical-align: top;\n",
       "    }\n",
       "\n",
       "    .dataframe thead th {\n",
       "        text-align: right;\n",
       "    }\n",
       "</style>\n",
       "<table border=\"1\" class=\"dataframe\">\n",
       "  <thead>\n",
       "    <tr style=\"text-align: right;\">\n",
       "      <th></th>\n",
       "      <th>count</th>\n",
       "      <th>mean</th>\n",
       "      <th>std</th>\n",
       "      <th>min</th>\n",
       "      <th>25%</th>\n",
       "      <th>50%</th>\n",
       "      <th>75%</th>\n",
       "      <th>max</th>\n",
       "    </tr>\n",
       "    <tr>\n",
       "      <th>YrSold</th>\n",
       "      <th></th>\n",
       "      <th></th>\n",
       "      <th></th>\n",
       "      <th></th>\n",
       "      <th></th>\n",
       "      <th></th>\n",
       "      <th></th>\n",
       "      <th></th>\n",
       "    </tr>\n",
       "  </thead>\n",
       "  <tbody>\n",
       "    <tr>\n",
       "      <th>2006</th>\n",
       "      <td>314.0</td>\n",
       "      <td>182549.458599</td>\n",
       "      <td>79426.838855</td>\n",
       "      <td>35311.0</td>\n",
       "      <td>131375.0</td>\n",
       "      <td>163995.0</td>\n",
       "      <td>218782.5</td>\n",
       "      <td>625000.0</td>\n",
       "    </tr>\n",
       "    <tr>\n",
       "      <th>2007</th>\n",
       "      <td>329.0</td>\n",
       "      <td>186063.151976</td>\n",
       "      <td>85768.171410</td>\n",
       "      <td>39300.0</td>\n",
       "      <td>129900.0</td>\n",
       "      <td>167000.0</td>\n",
       "      <td>219500.0</td>\n",
       "      <td>755000.0</td>\n",
       "    </tr>\n",
       "    <tr>\n",
       "      <th>2008</th>\n",
       "      <td>304.0</td>\n",
       "      <td>177360.838816</td>\n",
       "      <td>69735.610685</td>\n",
       "      <td>40000.0</td>\n",
       "      <td>131250.0</td>\n",
       "      <td>164000.0</td>\n",
       "      <td>207000.0</td>\n",
       "      <td>446261.0</td>\n",
       "    </tr>\n",
       "    <tr>\n",
       "      <th>2009</th>\n",
       "      <td>338.0</td>\n",
       "      <td>179432.103550</td>\n",
       "      <td>80879.237311</td>\n",
       "      <td>34900.0</td>\n",
       "      <td>125250.0</td>\n",
       "      <td>162000.0</td>\n",
       "      <td>212750.0</td>\n",
       "      <td>582933.0</td>\n",
       "    </tr>\n",
       "    <tr>\n",
       "      <th>2010</th>\n",
       "      <td>175.0</td>\n",
       "      <td>177393.674286</td>\n",
       "      <td>80451.280085</td>\n",
       "      <td>55000.0</td>\n",
       "      <td>128100.0</td>\n",
       "      <td>155000.0</td>\n",
       "      <td>213250.0</td>\n",
       "      <td>611657.0</td>\n",
       "    </tr>\n",
       "  </tbody>\n",
       "</table>\n",
       "</div>"
      ],
      "text/plain": [
       "        count           mean           std      min       25%       50%  \\\n",
       "YrSold                                                                    \n",
       "2006    314.0  182549.458599  79426.838855  35311.0  131375.0  163995.0   \n",
       "2007    329.0  186063.151976  85768.171410  39300.0  129900.0  167000.0   \n",
       "2008    304.0  177360.838816  69735.610685  40000.0  131250.0  164000.0   \n",
       "2009    338.0  179432.103550  80879.237311  34900.0  125250.0  162000.0   \n",
       "2010    175.0  177393.674286  80451.280085  55000.0  128100.0  155000.0   \n",
       "\n",
       "             75%       max  \n",
       "YrSold                      \n",
       "2006    218782.5  625000.0  \n",
       "2007    219500.0  755000.0  \n",
       "2008    207000.0  446261.0  \n",
       "2009    212750.0  582933.0  \n",
       "2010    213250.0  611657.0  "
      ]
     },
     "execution_count": 93,
     "metadata": {},
     "output_type": "execute_result"
    }
   ],
   "source": [
    "agung.groupby('YrSold')['SalePrice'].describe()"
   ]
  },
  {
   "cell_type": "code",
   "execution_count": 58,
   "metadata": {},
   "outputs": [
    {
     "name": "stdout",
     "output_type": "stream",
     "text": [
      "Interquartile Range of SalePrice per Year:\n",
      "YrSold\n",
      "2006    87407.5\n",
      "2007    89600.0\n",
      "2008    75750.0\n",
      "2009    87500.0\n",
      "2010    85150.0\n",
      "Name: SalePrice, dtype: float64\n"
     ]
    }
   ],
   "source": [
    "#interquartile range harga rumah per tahun\n",
    "inter_quartile_range_per_year = agung.groupby('YrSold')['SalePrice'].apply(lambda x: x.quantile(0.75) - x.quantile(0.25))\n",
    "print(\"Interquartile Range of SalePrice per Year:\")\n",
    "print(inter_quartile_range_per_year)"
   ]
  },
  {
   "cell_type": "code",
   "execution_count": 69,
   "metadata": {},
   "outputs": [
    {
     "data": {
      "image/png": "[encoded data removed]",
      "text/plain": [
       "<Figure size 1000x600 with 1 Axes>"
      ]
     },
     "metadata": {},
     "output_type": "display_data"
    },
    {
     "data": {
      "image/png": "[encoded data removed]",
      "text/plain": [
       "<Figure size 1000x600 with 1 Axes>"
      ]
     },
     "metadata": {},
     "output_type": "display_data"
    },
    {
     "data": {
      "image/png": "[encoded data removed]",
      "text/plain": [
       "<Figure size 1000x600 with 1 Axes>"
      ]
     },
     "metadata": {},
     "output_type": "display_data"
    },
    {
     "data": {
      "image/png": "[encoded data removed]",
      "text/plain": [
       "<Figure size 1000x600 with 1 Axes>"
      ]
     },
     "metadata": {},
     "output_type": "display_data"
    },
    {
     "data": {
      "image/png": "[encoded data removed]",
      "text/plain": [
       "<Figure size 1000x600 with 1 Axes>"
      ]
     },
     "metadata": {},
     "output_type": "display_data"
    }
   ],
   "source": [
    "#histogram untuk masing masing tahun\n",
    "for year in agung['YrSold'].unique():\n",
    "    plt.figure(figsize=(10, 6))\n",
    "    sns.histplot(agung[agung['YrSold'] == year]['SalePrice'], bins=30, kde=True)\n",
    "    plt.title(f'Histogram of SalePrice for Year {year}')\n",
    "    plt.xlabel('SalePrice')\n",
    "    plt.show()\n"
   ]
  },
  {
   "cell_type": "code",
   "execution_count": 62,
   "metadata": {},
   "outputs": [
    {
     "data": {
      "image/png": "[encoded data removed]",
      "text/plain": [
       "<Figure size 1200x600 with 1 Axes>"
      ]
     },
     "metadata": {},
     "output_type": "display_data"
    }
   ],
   "source": [
    "#boxplotnya\n",
    "plt.figure(figsize=(12, 6))\n",
    "sns.boxplot(x='YrSold', y='SalePrice', data=agung)\n",
    "plt.title('Boxplot of SalePrice by Year Sold')\n",
    "plt.xlabel('Year Sold')\n",
    "plt.ylabel('SalePrice')\n",
    "plt.show()"
   ]
  },
  {
   "cell_type": "code",
   "execution_count": 70,
   "metadata": {},
   "outputs": [
    {
     "name": "stdout",
     "output_type": "stream",
     "text": [
      "Upper Bounds per Year:\n",
      "YrSold\n",
      "2006    349893.75\n",
      "2007    353900.00\n",
      "2008    320625.00\n",
      "2009    344000.00\n",
      "2010    340975.00\n",
      "Name: SalePrice, dtype: float64\n",
      "Lower Bounds per Year:\n",
      "YrSold\n",
      "2006      263.75\n",
      "2007    -4500.00\n",
      "2008    17625.00\n",
      "2009    -6000.00\n",
      "2010      375.00\n",
      "Name: SalePrice, dtype: float64\n"
     ]
    }
   ],
   "source": [
    "#mengecek upperbound dan lower bound per tahun\n",
    "upper_bounds_per_year = agung.groupby('YrSold')['SalePrice'].apply(lambda x: x.quantile(0.75) + 1.5 * (x.quantile(0.75) - x.quantile(0.25)))\n",
    "lower_bounds_per_year = agung.groupby('YrSold')['SalePrice'].apply(lambda x: x.quantile(0.25) - 1.5 * (x.quantile(0.75) - x.quantile(0.25)))\n",
    "print(\"Upper Bounds per Year:\")\n",
    "print(upper_bounds_per_year)\n",
    "print(\"Lower Bounds per Year:\")\n",
    "print(lower_bounds_per_year)\n"
   ]
  },
  {
   "cell_type": "code",
   "execution_count": 72,
   "metadata": {},
   "outputs": [
    {
     "data": {
      "text/html": [
       "<div>\n",
       "<style scoped>\n",
       "    .dataframe tbody tr th:only-of-type {\n",
       "        vertical-align: middle;\n",
       "    }\n",
       "\n",
       "    .dataframe tbody tr th {\n",
       "        vertical-align: top;\n",
       "    }\n",
       "\n",
       "    .dataframe thead th {\n",
       "        text-align: right;\n",
       "    }\n",
       "</style>\n",
       "<table border=\"1\" class=\"dataframe\">\n",
       "  <thead>\n",
       "    <tr style=\"text-align: right;\">\n",
       "      <th></th>\n",
       "      <th>count</th>\n",
       "      <th>mean</th>\n",
       "      <th>std</th>\n",
       "      <th>min</th>\n",
       "      <th>25%</th>\n",
       "      <th>50%</th>\n",
       "      <th>75%</th>\n",
       "      <th>max</th>\n",
       "    </tr>\n",
       "    <tr>\n",
       "      <th>YrSold</th>\n",
       "      <th></th>\n",
       "      <th></th>\n",
       "      <th></th>\n",
       "      <th></th>\n",
       "      <th></th>\n",
       "      <th></th>\n",
       "      <th></th>\n",
       "      <th></th>\n",
       "    </tr>\n",
       "  </thead>\n",
       "  <tbody>\n",
       "    <tr>\n",
       "      <th>2006</th>\n",
       "      <td>314.0</td>\n",
       "      <td>182549.458599</td>\n",
       "      <td>79426.838855</td>\n",
       "      <td>35311.0</td>\n",
       "      <td>131375.0</td>\n",
       "      <td>163995.0</td>\n",
       "      <td>218782.5</td>\n",
       "      <td>625000.0</td>\n",
       "    </tr>\n",
       "    <tr>\n",
       "      <th>2007</th>\n",
       "      <td>329.0</td>\n",
       "      <td>186063.151976</td>\n",
       "      <td>85768.171410</td>\n",
       "      <td>39300.0</td>\n",
       "      <td>129900.0</td>\n",
       "      <td>167000.0</td>\n",
       "      <td>219500.0</td>\n",
       "      <td>755000.0</td>\n",
       "    </tr>\n",
       "    <tr>\n",
       "      <th>2008</th>\n",
       "      <td>304.0</td>\n",
       "      <td>177360.838816</td>\n",
       "      <td>69735.610685</td>\n",
       "      <td>40000.0</td>\n",
       "      <td>131250.0</td>\n",
       "      <td>164000.0</td>\n",
       "      <td>207000.0</td>\n",
       "      <td>446261.0</td>\n",
       "    </tr>\n",
       "    <tr>\n",
       "      <th>2009</th>\n",
       "      <td>338.0</td>\n",
       "      <td>179432.103550</td>\n",
       "      <td>80879.237311</td>\n",
       "      <td>34900.0</td>\n",
       "      <td>125250.0</td>\n",
       "      <td>162000.0</td>\n",
       "      <td>212750.0</td>\n",
       "      <td>582933.0</td>\n",
       "    </tr>\n",
       "    <tr>\n",
       "      <th>2010</th>\n",
       "      <td>175.0</td>\n",
       "      <td>177393.674286</td>\n",
       "      <td>80451.280085</td>\n",
       "      <td>55000.0</td>\n",
       "      <td>128100.0</td>\n",
       "      <td>155000.0</td>\n",
       "      <td>213250.0</td>\n",
       "      <td>611657.0</td>\n",
       "    </tr>\n",
       "  </tbody>\n",
       "</table>\n",
       "</div>"
      ],
      "text/plain": [
       "        count           mean           std      min       25%       50%  \\\n",
       "YrSold                                                                    \n",
       "2006    314.0  182549.458599  79426.838855  35311.0  131375.0  163995.0   \n",
       "2007    329.0  186063.151976  85768.171410  39300.0  129900.0  167000.0   \n",
       "2008    304.0  177360.838816  69735.610685  40000.0  131250.0  164000.0   \n",
       "2009    338.0  179432.103550  80879.237311  34900.0  125250.0  162000.0   \n",
       "2010    175.0  177393.674286  80451.280085  55000.0  128100.0  155000.0   \n",
       "\n",
       "             75%       max  \n",
       "YrSold                      \n",
       "2006    218782.5  625000.0  \n",
       "2007    219500.0  755000.0  \n",
       "2008    207000.0  446261.0  \n",
       "2009    212750.0  582933.0  \n",
       "2010    213250.0  611657.0  "
      ]
     },
     "execution_count": 72,
     "metadata": {},
     "output_type": "execute_result"
    }
   ],
   "source": [
    "agung.groupby('YrSold')['SalePrice'].describe()"
   ]
  },
  {
   "cell_type": "code",
   "execution_count": 73,
   "metadata": {},
   "outputs": [
    {
     "data": {
      "text/html": [
       "<div>\n",
       "<style scoped>\n",
       "    .dataframe tbody tr th:only-of-type {\n",
       "        vertical-align: middle;\n",
       "    }\n",
       "\n",
       "    .dataframe tbody tr th {\n",
       "        vertical-align: top;\n",
       "    }\n",
       "\n",
       "    .dataframe thead th {\n",
       "        text-align: right;\n",
       "    }\n",
       "</style>\n",
       "<table border=\"1\" class=\"dataframe\">\n",
       "  <thead>\n",
       "    <tr style=\"text-align: right;\">\n",
       "      <th></th>\n",
       "      <th>count</th>\n",
       "    </tr>\n",
       "    <tr>\n",
       "      <th>YrSold</th>\n",
       "      <th></th>\n",
       "    </tr>\n",
       "  </thead>\n",
       "  <tbody>\n",
       "    <tr>\n",
       "      <th>2006</th>\n",
       "      <td>314</td>\n",
       "    </tr>\n",
       "    <tr>\n",
       "      <th>2007</th>\n",
       "      <td>329</td>\n",
       "    </tr>\n",
       "    <tr>\n",
       "      <th>2008</th>\n",
       "      <td>304</td>\n",
       "    </tr>\n",
       "    <tr>\n",
       "      <th>2009</th>\n",
       "      <td>338</td>\n",
       "    </tr>\n",
       "    <tr>\n",
       "      <th>2010</th>\n",
       "      <td>175</td>\n",
       "    </tr>\n",
       "  </tbody>\n",
       "</table>\n",
       "</div>"
      ],
      "text/plain": [
       "        count\n",
       "YrSold       \n",
       "2006      314\n",
       "2007      329\n",
       "2008      304\n",
       "2009      338\n",
       "2010      175"
      ]
     },
     "execution_count": 73,
     "metadata": {},
     "output_type": "execute_result"
    }
   ],
   "source": [
    "agung.groupby('YrSold')['SalePrice'].agg(['count'])"
   ]
  },
  {
   "cell_type": "code",
   "execution_count": 87,
   "metadata": {},
   "outputs": [
    {
     "data": {
      "text/html": [
       "<div>\n",
       "<style scoped>\n",
       "    .dataframe tbody tr th:only-of-type {\n",
       "        vertical-align: middle;\n",
       "    }\n",
       "\n",
       "    .dataframe tbody tr th {\n",
       "        vertical-align: top;\n",
       "    }\n",
       "\n",
       "    .dataframe thead th {\n",
       "        text-align: right;\n",
       "    }\n",
       "</style>\n",
       "<table border=\"1\" class=\"dataframe\">\n",
       "  <thead>\n",
       "    <tr style=\"text-align: right;\">\n",
       "      <th></th>\n",
       "      <th>mean</th>\n",
       "      <th>median</th>\n",
       "    </tr>\n",
       "    <tr>\n",
       "      <th>YrSold</th>\n",
       "      <th></th>\n",
       "      <th></th>\n",
       "    </tr>\n",
       "  </thead>\n",
       "  <tbody>\n",
       "    <tr>\n",
       "      <th>2006</th>\n",
       "      <td>182549.458599</td>\n",
       "      <td>163995.0</td>\n",
       "    </tr>\n",
       "    <tr>\n",
       "      <th>2007</th>\n",
       "      <td>186063.151976</td>\n",
       "      <td>167000.0</td>\n",
       "    </tr>\n",
       "    <tr>\n",
       "      <th>2008</th>\n",
       "      <td>177360.838816</td>\n",
       "      <td>164000.0</td>\n",
       "    </tr>\n",
       "    <tr>\n",
       "      <th>2009</th>\n",
       "      <td>179432.103550</td>\n",
       "      <td>162000.0</td>\n",
       "    </tr>\n",
       "    <tr>\n",
       "      <th>2010</th>\n",
       "      <td>177393.674286</td>\n",
       "      <td>155000.0</td>\n",
       "    </tr>\n",
       "  </tbody>\n",
       "</table>\n",
       "</div>"
      ],
      "text/plain": [
       "                 mean    median\n",
       "YrSold                         \n",
       "2006    182549.458599  163995.0\n",
       "2007    186063.151976  167000.0\n",
       "2008    177360.838816  164000.0\n",
       "2009    179432.103550  162000.0\n",
       "2010    177393.674286  155000.0"
      ]
     },
     "execution_count": 87,
     "metadata": {},
     "output_type": "execute_result"
    }
   ],
   "source": [
    "agung.groupby('YrSold')['SalePrice'].agg(mean = 'mean', median=lambda x: x.quantile(0.5))"
   ]
  },
  {
   "cell_type": "markdown",
   "metadata": {},
   "source": [
    "### `Interpretasi`\n",
    "\n",
    "- Terdapat **314** rumah terjual pada tahun **2006**, **329** pada tahun **2007**, **304** pada tahun **2008**, **338** pada tahun **2009**, dan **175** pada tahun **2010**.\n",
    "- Tahun **2009** menjadi tahun dengan jumlah **penjualan terbanyak** yaitu **338 unit**, sedangkan tahun **2010** memiliki **jumlah penjualan paling sedikit** yaitu **175 unit**.\n",
    "\n",
    "- Rata-rata harga rumah tiap tahun:\n",
    "  - **2006**: **$182,549.46**\n",
    "  - **2007**: **$186,063.15**\n",
    "  - **2008**: **$177,360.84**\n",
    "  - **2009**: **$179,432.10**\n",
    "  - **2010**: **$177,393.67**\n",
    "\n",
    "- Median (Q2) harga rumah tiap tahun:\n",
    "  - **2006**: **$163,995.00**\n",
    "  - **2007**: **$167,000.00** ← *Tertinggi*\n",
    "  - **2008**: **$164,000.00**\n",
    "  - **2009**: **$162,000.00**\n",
    "  - **2010**: **$155,000.00** ← *Terendah*\n",
    "\n",
    "- **Rata-rata selalu lebih besar dari median**, menunjukkan bahwa distribusi harga rumah setiap tahun bersifat **positively skewed** (condong ke kanan).\n",
    "- Distribusi yang tidak simetris ini mengindikasikan adanya **outlier mahal** yang menarik rata-rata ke atas.\n",
    "- Oleh karena itu, **median lebih representatif** untuk menggambarkan harga mayoritas rumah di pasar.\n",
    "- **Tahun 2007** menjadi tahun dengan median tertinggi, menggambarkan **kondisi pasar yang kuat dan aktif**, sementara **tahun 2010** menunjukkan **penurunan daya beli atau efek koreksi pasar**.\n",
    "\n",
    "\n",
    "### Interquartile Range (IQR) per Tahun\n",
    "\n",
    "- IQR adalah selisih antara kuartil ketiga (Q3) dan kuartil pertama (Q1\"), menggambarkan sebaran harga rumah di tengah 50% populasi.\n",
    "- Nilai IQR per tahun:\n",
    "  - **2006**: **$87,407.50**\n",
    "  - **2007**: **$89,600.00** ← *Tertinggi*\n",
    "  - **2008**: **$75,750.00** ← *Terendah*\n",
    "  - **2009**: **$87,500.00**\n",
    "  - **2010**: **$85,150.00**\n",
    "\n",
    "- **Tahun 2007** memiliki variasi harga terbesar dalam kelompok tengah pasar, sedangkan **tahun 2008** menunjukkan pasar yang lebih stabil dan homogen.\n",
    "- **IQR yang tinggi** menggambarkan **keragaman segmen pasar** yang luas dan penting untuk strategi penetapan harga.\n",
    "- Karena IQR tidak terpengaruh outlier, ini adalah ukuran yang **andal untuk memahami variasi harga normal**.\n",
    "\n",
    "\n",
    "### Batas Atas dan Bawah (Outlier Threshold) per Tahun\n",
    "\n",
    "- Batas atas (Upper Bound) harga rumah berdasarkan IQR:\n",
    "  - **2006**: **$349,893.75**\n",
    "  - **2007**: **$353,900.00** ← *Tertinggi*\n",
    "  - **2008**: **$320,625.00** ← *Terendah*\n",
    "  - **2009**: **$344,000.00**\n",
    "  - **2010**: **$340,975.00**\n",
    "\n",
    "- Rumah yang dijual di atas nilai tersebut dianggap **outlier mahal**, dan ini terlihat jelas pada **boxplot tiap tahun**.\n",
    "- Tidak ditemukan rumah dengan harga di bawah batas bawah (lower bound) yang signifikan  menunjukkan bahwa **outlier hanya terjadi pada sisi harga tinggi**.\n",
    "- **Distribusi positively skewed setiap tahun** juga menguatkan temuan ini.\n",
    "\n",
    "- Tahun **2007** memiliki **batas atas (upper bound) tertinggi** yaitu **$353,900.00**. Hal ini berarti:\n",
    "  - Harga rumah pada tahun 2007 secara keseluruhan lebih tinggi dibandingkan tahun-tahun lainnya.\n",
    "  - Untuk dianggap sebagai **outlier mahal di tahun 2007**, harga rumah harus lebih tinggi dari $353,900, sedangkan di tahun lain batas tersebut lebih rendah.\n",
    "  - Ini mengindikasikan bahwa **tingkat harga yang dianggap “normal” oleh pasar saat itu lebih tinggi** daripada tahun-tahun lainnya.\n",
    "\n",
    "- Temuan ini penting karena:\n",
    "  - Bisa mencerminkan **optimisme pasar** atau **lonjakan permintaan properti** pada tahun tersebut.\n",
    "  - Tahun 2007 bisa dianggap sebagai **puncak siklus pasar properti** dalam periode 2006–2010.\n",
    "\n",
    "\n",
    "\n",
    "### Standar Deviasi per Tahun (kurang relevan mengingat outlier)\n",
    "\n",
    "- Standar deviasi menunjukkan **seberapa besar variasi harga rumah dari rata-rata**.\n",
    "- Nilai standar deviasi per tahun:\n",
    "  - **2006**: **$79,427**\n",
    "  - **2007**: **$85,768** ← *Tertinggi*\n",
    "  - **2008**: **$69,736** ← *Terendah*\n",
    "  - **2009**: **$80,879**\n",
    "  - **2010**: **$80,451**\n",
    "\n",
    "- **Tahun 2007** memiliki standar deviasi tertinggi, selaras dengan IQR dan batas atas tertinggi, menunjukkan **pasar paling beragam secara harga**.\n",
    "- **Tahun 2008** menunjukkan **pasar yang paling stabil**, dengan variasi harga yang paling kecil.\n",
    "\n",
    "---\n",
    "\n"
   ]
  },
  {
   "cell_type": "markdown",
   "metadata": {},
   "source": [
    "### `Kesimpulan: Apakah Ada Perbedaan Setiap Tahunnya?`\n",
    "\n",
    "Berdasarkan analisis statistik deskriptif, dapat disimpulkan bahwa **terdapat perbedaan harga rumah antar tahun**, baik dari segi **rata-rata, median, maupun penyebaran (IQR dan standar deviasi)**.\n",
    "\n",
    "- **Tahun 2007** menonjol sebagai tahun dengan **harga rumah tertinggi secara median dan variasi harga paling besar**, menandakan kondisi pasar yang relatif kuat.\n",
    "- **Tahun 2010** menjadi tahun dengan **median terendah dan jumlah penjualan paling sedikit**, mencerminkan kemungkinan penurunan daya beli atau kondisi pasar yang melemah.\n",
    "- **IQR** juga menunjukkan **perbedaan pola sebaran harga tiap tahun**, dengan 2008 sebagai tahun paling stabil dan 2007 sebagai tahun paling bervariasi.\n",
    "- Keberadaan outlier mahal yang konsisten setiap tahun, terutama di tahun 2007 dan 2008, menunjukkan **perbedaan dinamika pasar dan segmen highend** antar periode.\n",
    "\n",
    "Dengan demikian, **secara deskriptif terdapat perbedaan karakteristik harga rumah setiap tahunnya**, baik dari sisi pemusatan (mean, median) maupun penyebarannya (std, IQR).\n",
    "\n",
    "---\n",
    "\n",
    "---\n"
   ]
  },
  {
   "cell_type": "markdown",
   "metadata": {},
   "source": [
    "# Soal Ketiga (25 poin)\n",
    "\n",
    "Bagaimana distribusi harga rumah tersebut. Gunakan histogram plot\n",
    "tidak terbatas hanya histogram saja. Jelaskan sebaiknya untuk\n",
    "analisa apakah lebih baik menggunakan mean atau menggunakan\n",
    "median? Beserta alasannya (Column Name : SalePrice)\n",
    "\n",
    "Ceritakan analisa tersebut dengan sudut pandang statistika. Buatlah\n",
    "tim bisnis paham maksud dari grafik histogram tersebut.\n",
    "\n",
    "Ekspektasi :\n",
    "- Grafik Histogram (8 poin)\n",
    "- Analisa (12 poin)\n",
    "- Interpretasi (5 poin)\n"
   ]
  },
  {
   "cell_type": "code",
   "execution_count": 94,
   "metadata": {},
   "outputs": [
    {
     "data": {
      "image/png": "[encoded data removed]",
      "text/plain": [
       "<Figure size 640x480 with 1 Axes>"
      ]
     },
     "metadata": {},
     "output_type": "display_data"
    }
   ],
   "source": [
    "plt.hist(agung['SalePrice'])\n",
    "plt.show()"
   ]
  },
  {
   "cell_type": "code",
   "execution_count": 97,
   "metadata": {},
   "outputs": [
    {
     "data": {
      "image/png": "[encoded data removed]",
      "text/plain": [
       "<Figure size 1000x600 with 1 Axes>"
      ]
     },
     "metadata": {},
     "output_type": "display_data"
    }
   ],
   "source": [
    "plt.figure(figsize=(10, 6))\n",
    "sns.boxplot(x=agung['SalePrice'])\n",
    "plt.title('Boxplot of SalePrice')\n",
    "plt.xlabel('SalePrice')\n",
    "plt.show()"
   ]
  },
  {
   "cell_type": "code",
   "execution_count": 98,
   "metadata": {},
   "outputs": [
    {
     "data": {
      "text/plain": [
       "count      1460.000000\n",
       "mean     180921.195890\n",
       "std       79442.502883\n",
       "min       34900.000000\n",
       "25%      129975.000000\n",
       "50%      163000.000000\n",
       "75%      214000.000000\n",
       "max      755000.000000\n",
       "Name: SalePrice, dtype: float64"
      ]
     },
     "execution_count": 98,
     "metadata": {},
     "output_type": "execute_result"
    }
   ],
   "source": [
    "agung['SalePrice'].describe()"
   ]
  },
  {
   "cell_type": "markdown",
   "metadata": {},
   "source": [
    "### `Histogram Saleprice`\n",
    "\n",
    "![Histogram SalePrice](histogramsaleprice.png)\n",
    "\n",
    "\n",
    "### `Analisis Statistik`\n",
    "\n",
    "- Histogram menunjukkan bahwa **distribusi harga rumah tidak simetris** dan **mengumpul di sisi kiri** (harga rendah), sementara **ekor panjangnya ke kanan** (harga tinggi).\n",
    "- Pola ini dikenal sebagai **positively skewed distribution** artinya, banyak rumah berada di kisaran harga rendah hingga menengah, tetapi ada **beberapa rumah dengan harga sangat tinggi** (outlier) yang menarik ekor distribusi ke kanan.\n",
    "- Ini konsisten dengan nilai-nilai deskriptif sebelumnya:\n",
    "  - **Mean**: $180,921.20\n",
    "  - **Median**: $163,000.00\n",
    "  - **Standard Deviation**: $79,442.50\n",
    "  - **IQR**: $84,025.00\n",
    "- Perbedaan antara mean dan median sebesar ~$17,000 menunjukkan bahwa **mean terdorong oleh harga-harga ekstrem**, sehingga **tidak mewakili harga mayoritas rumah**. Oleh karena itu penggunaan **nilai median** menjadi nilai yang **lebih tepat** dalam merepresenstasikan pasar\n",
    "\n",
    "\n",
    "### `Interpretasi`\n",
    "\n",
    "- Berdasarkan bentuk distribusi, **median adalah ukuran pemusatan yang lebih tepat** dibandingkan mean.\n",
    "  - Mengapa? Karena median **tidak terpengaruh oleh outlier** dan merepresentasikan **harga tengah** dari seluruh rumah di pasar.\n",
    "  - Dalam konteks ini, **50% rumah dijual antara $129,975 dan $214,000**, yang merupakan rentang harga yang umum dan wajar.\n",
    "- Jika kita hanya menggunakan **mean**, tim bisnis bisa salah menafsirkan bahwa mayoritas rumah dijual mendekati $180,000 padahal tidak.\n",
    "- Grafik histogram mendukung temuan ini karena menunjukkan **konsentrasi massa data di bawah $200,000**, dan hanya sebagian kecil yang menyebar ke area harga tinggi.\n",
    "\n",
    "### Kesimpulan\n",
    "\n",
    "- Distribusi `SalePrice` bersifat **positively skewed**.\n",
    "- **Median ($163,000)** lebih representatif dibanding **mean ($180,921)** untuk menyimpulkan harga rumah secara umum.\n",
    "- **Rekomendasi**: gunakan median sebagai acuan untuk penetapan harga, evaluasi performa, dan pengambilan keputusan strategis terkait harga rumah.\n",
    "\n",
    "---\n",
    "\n",
    "---\n"
   ]
  },
  {
   "cell_type": "markdown",
   "metadata": {},
   "source": [
    "## Soal Keempat (30 poin)\n",
    "\n",
    "Karena ada pernyataan bahwa setiap tahunnya harga\n",
    "rumah itu pasti naik. (tahun terjual : YrSold, harga rumah :\n",
    "SalePrice) Silahkan teman-teman buktikan dengan data yang\n",
    "ada menggunakan ilmu statistika? (Tidak terbatas pada\n",
    "pengujian apapun)\n",
    "\n",
    "Ekspektasi :\n",
    "- Penentuan hipotesis (5 poin)\n",
    "- Pengujian yang digunakan (5 poin)\n",
    "-  Hasil pengujian hipotesis (10 poin)\n",
    "- Kesimpulan dan interpretasi (10 poin)\n"
   ]
  },
  {
   "cell_type": "code",
   "execution_count": 99,
   "metadata": {},
   "outputs": [
    {
     "data": {
      "text/html": [
       "<div>\n",
       "<style scoped>\n",
       "    .dataframe tbody tr th:only-of-type {\n",
       "        vertical-align: middle;\n",
       "    }\n",
       "\n",
       "    .dataframe tbody tr th {\n",
       "        vertical-align: top;\n",
       "    }\n",
       "\n",
       "    .dataframe thead th {\n",
       "        text-align: right;\n",
       "    }\n",
       "</style>\n",
       "<table border=\"1\" class=\"dataframe\">\n",
       "  <thead>\n",
       "    <tr style=\"text-align: right;\">\n",
       "      <th></th>\n",
       "      <th>count</th>\n",
       "      <th>mean</th>\n",
       "      <th>std</th>\n",
       "      <th>min</th>\n",
       "      <th>25%</th>\n",
       "      <th>50%</th>\n",
       "      <th>75%</th>\n",
       "      <th>max</th>\n",
       "    </tr>\n",
       "    <tr>\n",
       "      <th>YrSold</th>\n",
       "      <th></th>\n",
       "      <th></th>\n",
       "      <th></th>\n",
       "      <th></th>\n",
       "      <th></th>\n",
       "      <th></th>\n",
       "      <th></th>\n",
       "      <th></th>\n",
       "    </tr>\n",
       "  </thead>\n",
       "  <tbody>\n",
       "    <tr>\n",
       "      <th>2006</th>\n",
       "      <td>314.0</td>\n",
       "      <td>182549.458599</td>\n",
       "      <td>79426.838855</td>\n",
       "      <td>35311.0</td>\n",
       "      <td>131375.0</td>\n",
       "      <td>163995.0</td>\n",
       "      <td>218782.5</td>\n",
       "      <td>625000.0</td>\n",
       "    </tr>\n",
       "    <tr>\n",
       "      <th>2007</th>\n",
       "      <td>329.0</td>\n",
       "      <td>186063.151976</td>\n",
       "      <td>85768.171410</td>\n",
       "      <td>39300.0</td>\n",
       "      <td>129900.0</td>\n",
       "      <td>167000.0</td>\n",
       "      <td>219500.0</td>\n",
       "      <td>755000.0</td>\n",
       "    </tr>\n",
       "    <tr>\n",
       "      <th>2008</th>\n",
       "      <td>304.0</td>\n",
       "      <td>177360.838816</td>\n",
       "      <td>69735.610685</td>\n",
       "      <td>40000.0</td>\n",
       "      <td>131250.0</td>\n",
       "      <td>164000.0</td>\n",
       "      <td>207000.0</td>\n",
       "      <td>446261.0</td>\n",
       "    </tr>\n",
       "    <tr>\n",
       "      <th>2009</th>\n",
       "      <td>338.0</td>\n",
       "      <td>179432.103550</td>\n",
       "      <td>80879.237311</td>\n",
       "      <td>34900.0</td>\n",
       "      <td>125250.0</td>\n",
       "      <td>162000.0</td>\n",
       "      <td>212750.0</td>\n",
       "      <td>582933.0</td>\n",
       "    </tr>\n",
       "    <tr>\n",
       "      <th>2010</th>\n",
       "      <td>175.0</td>\n",
       "      <td>177393.674286</td>\n",
       "      <td>80451.280085</td>\n",
       "      <td>55000.0</td>\n",
       "      <td>128100.0</td>\n",
       "      <td>155000.0</td>\n",
       "      <td>213250.0</td>\n",
       "      <td>611657.0</td>\n",
       "    </tr>\n",
       "  </tbody>\n",
       "</table>\n",
       "</div>"
      ],
      "text/plain": [
       "        count           mean           std      min       25%       50%  \\\n",
       "YrSold                                                                    \n",
       "2006    314.0  182549.458599  79426.838855  35311.0  131375.0  163995.0   \n",
       "2007    329.0  186063.151976  85768.171410  39300.0  129900.0  167000.0   \n",
       "2008    304.0  177360.838816  69735.610685  40000.0  131250.0  164000.0   \n",
       "2009    338.0  179432.103550  80879.237311  34900.0  125250.0  162000.0   \n",
       "2010    175.0  177393.674286  80451.280085  55000.0  128100.0  155000.0   \n",
       "\n",
       "             75%       max  \n",
       "YrSold                      \n",
       "2006    218782.5  625000.0  \n",
       "2007    219500.0  755000.0  \n",
       "2008    207000.0  446261.0  \n",
       "2009    212750.0  582933.0  \n",
       "2010    213250.0  611657.0  "
      ]
     },
     "execution_count": 99,
     "metadata": {},
     "output_type": "execute_result"
    }
   ],
   "source": [
    "agung.groupby('YrSold')['SalePrice'].describe()"
   ]
  },
  {
   "cell_type": "code",
   "execution_count": 113,
   "metadata": {},
   "outputs": [
    {
     "name": "stdout",
     "output_type": "stream",
     "text": [
      "count       329.000000\n",
      "mean     186063.151976\n",
      "std       85768.171410\n",
      "min       39300.000000\n",
      "25%      129900.000000\n",
      "50%      167000.000000\n",
      "75%      219500.000000\n",
      "max      755000.000000\n",
      "Name: SalePrice, dtype: float64\n"
     ]
    }
   ],
   "source": [
    "from scipy.stats import kruskal\n",
    "\n",
    "tahun_2006 = agung[agung['YrSold'] == 2006]['SalePrice']\n",
    "tahun_2007 = agung[agung['YrSold'] == 2007]['SalePrice']\n",
    "tahun_2008 = agung[agung['YrSold'] == 2008]['SalePrice']\n",
    "tahun_2009 = agung[agung['YrSold'] == 2009]['SalePrice']\n",
    "tahun_2010 = agung[agung['YrSold'] == 2010]['SalePrice']\n",
    "\n",
    "print(tahun_2007.describe())"
   ]
  },
  {
   "cell_type": "code",
   "execution_count": 102,
   "metadata": {},
   "outputs": [],
   "source": [
    "kruskal_result = kruskal(tahun_2006, tahun_2007, tahun_2008, tahun_2009, tahun_2010)"
   ]
  },
  {
   "cell_type": "code",
   "execution_count": 108,
   "metadata": {},
   "outputs": [
    {
     "data": {
      "text/html": [
       "<div>\n",
       "<style scoped>\n",
       "    .dataframe tbody tr th:only-of-type {\n",
       "        vertical-align: middle;\n",
       "    }\n",
       "\n",
       "    .dataframe tbody tr th {\n",
       "        vertical-align: top;\n",
       "    }\n",
       "\n",
       "    .dataframe thead th {\n",
       "        text-align: right;\n",
       "    }\n",
       "</style>\n",
       "<table border=\"1\" class=\"dataframe\">\n",
       "  <thead>\n",
       "    <tr style=\"text-align: right;\">\n",
       "      <th></th>\n",
       "      <th>median</th>\n",
       "    </tr>\n",
       "    <tr>\n",
       "      <th>YrSold</th>\n",
       "      <th></th>\n",
       "    </tr>\n",
       "  </thead>\n",
       "  <tbody>\n",
       "    <tr>\n",
       "      <th>2006</th>\n",
       "      <td>163995.0</td>\n",
       "    </tr>\n",
       "    <tr>\n",
       "      <th>2007</th>\n",
       "      <td>167000.0</td>\n",
       "    </tr>\n",
       "    <tr>\n",
       "      <th>2008</th>\n",
       "      <td>164000.0</td>\n",
       "    </tr>\n",
       "    <tr>\n",
       "      <th>2009</th>\n",
       "      <td>162000.0</td>\n",
       "    </tr>\n",
       "    <tr>\n",
       "      <th>2010</th>\n",
       "      <td>155000.0</td>\n",
       "    </tr>\n",
       "  </tbody>\n",
       "</table>\n",
       "</div>"
      ],
      "text/plain": [
       "          median\n",
       "YrSold          \n",
       "2006    163995.0\n",
       "2007    167000.0\n",
       "2008    164000.0\n",
       "2009    162000.0\n",
       "2010    155000.0"
      ]
     },
     "execution_count": 108,
     "metadata": {},
     "output_type": "execute_result"
    }
   ],
   "source": [
    "agung.groupby('YrSold')['SalePrice'].agg(median=lambda x: x.quantile(0.5))"
   ]
  },
  {
   "cell_type": "code",
   "execution_count": 109,
   "metadata": {},
   "outputs": [
    {
     "data": {
      "text/plain": [
       "KruskalResult(statistic=np.float64(1.645903303251481), pvalue=np.float64(0.800519267418441))"
      ]
     },
     "execution_count": 109,
     "metadata": {},
     "output_type": "execute_result"
    }
   ],
   "source": [
    "kruskal_result"
   ]
  },
  {
   "cell_type": "code",
   "execution_count": 110,
   "metadata": {},
   "outputs": [
    {
     "name": "stdout",
     "output_type": "stream",
     "text": [
      "P-Value : 0.800519267418441\n",
      "Tidak cukup bukti menyatakan bahwa harga rumah setiap tahunnya berbeda\n"
     ]
    }
   ],
   "source": [
    "p_value = kruskal_result.pvalue\n",
    "alpha = 0.05\n",
    "print('P-Value :',p_value)\n",
    "\n",
    "if p_value >= alpha:\n",
    "    print('Tidak cukup bukti menyatakan bahwa harga rumah setiap tahunnya berbeda')\n",
    "else:\n",
    "    print('Cukup bukti menyatakan (Tolak H0) bahwa harga rumah setiap tahunnya berbeda')"
   ]
  },
  {
   "attachments": {
    "image.png": {
     "image/png": "[encoded data removed]"
    }
   },
   "cell_type": "markdown",
   "metadata": {},
   "source": [
    "### `Penentuan Hipotesis`\n",
    "\n",
    "Pada interpretasi di nomer 2 saya menemukan bahwa: \n",
    "- **Rata-rata selalu lebih besar dari median**, menunjukkan bahwa distribusi harga rumah setiap tahun bersifat **positively skewed** (condong ke kanan).\n",
    "- Distribusi yang tidak simetris ini mengindikasikan adanya **outlier mahal** yang menarik rata-rata ke atas.\n",
    "- Oleh karena itu, **median lebih representatif** untuk menggambarkan harga mayoritas rumah di pasar.\n",
    "\n",
    "Dan terdapat pernyataan bahwa setiap tahunnya harga rumah itu pasti naik. maka bisa kita tentukan hipotesis 0 dan 1 :\n",
    "- Hipotesis Nol **(H₀): harga rumah tidak mengalami peningkatan signifikan setiap tahunnya.**\n",
    "- Hipotesis Alternatif **(H₁): harga rumah mengalami peningkatan signifikan setiap tahunnya.**\n",
    "\n",
    "### `Pengujian yang digunakan`\n",
    "Berdasarkan dua poin diatas untuk menarik kesimpulan maka nilai median tiap tahun akan digunakan sebagai acuan terhadap peningkatan harga rumah, sehingga pengujian yang akan dilakukan adalah menggunakan uji statistik **Kruskal-Wallis**. Uji statistik ini diambil karena dari interpretasi yang saya lakukan pada nomer 2 saya menemukan **bahwa outlier menyebabkan nilai mean (rata -rata ) menjadi ketarik ke atas** dan tidak dapat merepresentasikan data, **oleh karena itu saya akan menggunakan median sebagai representasi harga rumah** per tiap tahunnya sehingga kita bisa menguji apakah harga rumah memiliki peningkatan atau tidak. Dimana kruskal wallis ini sesuai dengan hasil analisa yang saya dapatkan dimana :\n",
    "\n",
    "- Kolom SalePrice tidak normal (positively skewed).\n",
    "- Terdapat banyak outlier mahal.\n",
    "- Kalau menggunakan ANOVA bisa misleading karena rata-rata tertarik oleh outlier.\n",
    "- Maka lebih aman gunakan Kruskal Wallis, karena pengujian ini tidak peduli distribusinya bagaimana cukup urutkan dan bandingkan peringkatnya saja.\n",
    "\n",
    "![image.png](attachment:image.png)\n",
    "\n",
    "gambar diatas merupakan formula dari uji statistik kruskal wallis yang akan digunakan untuk mendapatkan kesimpulan dari hipotesis, namun tidak akan saya jelaskan karena saya mager dan kita cukup panggil menggunakan Scipy kruskal(df_tahun1,df_tahun2 ...). \n",
    "\n",
    "cara kerjanya kurang lebih:\n",
    "\n",
    "- Gabungkan semua data dari berbagai kelompok (dalam kasus ini: SalePrice dari setiap tahun).\n",
    "\n",
    "- Urutkan semua data dari yang terkecil ke terbesar, lalu beri peringkat (rank).\n",
    "\n",
    "- Hitung rata-rata peringkat untuk tiap kelompok.\n",
    "\n",
    "### `Hasil Uji`\n",
    "Hasil pengujian:\n",
    "\n",
    "**KruskalResult(statistic=np.float64(1.645903303251481), pvalue=np.float64(0.800519267418441))**\n",
    "\n",
    "### **Karena p-value > 0.05, maka kita tidak punya cukup bukti untuk menolak H₀.**\n",
    "\n",
    "\n",
    "### `Kesimpulan dan interpretasi`\n",
    "Berdasarkan hasil uji Kruskal-Wallis, tidak terdapat perbedaan signifikan antara harga rumah pada tahun 2006 hingga 2010.\n",
    "\n",
    "Dengan demikian, klaim bahwa harga rumah selalu naik setiap tahun tidak didukung oleh data statistik. Fluktuasi harga dari tahun ke tahun lebih disebabkan oleh variasi acak atau faktor eksternal lainnya, bukan karena tren kenaikan yang konsisten.\n",
    "\n",
    "---\n",
    "\n",
    "---\n"
   ]
  },
  {
   "cell_type": "markdown",
   "metadata": {},
   "source": [
    "# Soal Kelima(10 Poin)\n",
    "\n",
    "Kasus yang akan digunakan adalah membuka akun deposit untuk\n",
    "nasabah bank. Pada kesempatan kali ini data scientist diminta tolong\n",
    "untuk menganalisa hasil ab-testing suatu perusahaan bank. Apakah\n",
    "jumlah campaign mampu meningkatkan keinginan user untuk\n",
    "membuka akun deposit atau tidak?\n",
    "\n",
    "Data yang digunakan berasal dari folder bank.zip file yang digunakan\n",
    "adalah bank-full.csv\n",
    "\n",
    "1. Untuk variabel jumlah campaign bisa dicek untuk kolom\n",
    "campaign\n",
    "2. untuk variabel apakah akhirnya user membuka akun atau tidak\n",
    "bisa menggunakan variabel y\n",
    "\n",
    "## Ekspektasi Hasil Analisa\n",
    "\n",
    "## Pemahaman konsep A/B Testing (5 poin)\n",
    "- Apa nama experimentnya?\n",
    "-  Definisikan Hipotesis\n",
    "-  Siapa participant-nya?\n",
    "-  Variabel yang akan diuji apa?\n",
    "-  Metrics apa yang akan digunakan?\n",
    "-  Berapa sample size dan durasi experiment?\n",
    "\n",
    "## Pengujian Hipotesis (5 poin)\n",
    "-  Penentuan hipotesis\n",
    "-  Pengujian yang digunakan\n",
    "-  Deteksi asumsi beserta cara penanganannya\n",
    "-  Hasil pengujian hipotesis\n",
    "-  Kesimpulan dan interpretasi"
   ]
  },
  {
   "cell_type": "code",
   "execution_count": 115,
   "metadata": {},
   "outputs": [
    {
     "data": {
      "text/html": [
       "<div>\n",
       "<style scoped>\n",
       "    .dataframe tbody tr th:only-of-type {\n",
       "        vertical-align: middle;\n",
       "    }\n",
       "\n",
       "    .dataframe tbody tr th {\n",
       "        vertical-align: top;\n",
       "    }\n",
       "\n",
       "    .dataframe thead th {\n",
       "        text-align: right;\n",
       "    }\n",
       "</style>\n",
       "<table border=\"1\" class=\"dataframe\">\n",
       "  <thead>\n",
       "    <tr style=\"text-align: right;\">\n",
       "      <th></th>\n",
       "      <th>age</th>\n",
       "      <th>job</th>\n",
       "      <th>marital</th>\n",
       "      <th>education</th>\n",
       "      <th>default</th>\n",
       "      <th>balance</th>\n",
       "      <th>housing</th>\n",
       "      <th>loan</th>\n",
       "      <th>contact</th>\n",
       "      <th>day</th>\n",
       "      <th>month</th>\n",
       "      <th>duration</th>\n",
       "      <th>campaign</th>\n",
       "      <th>pdays</th>\n",
       "      <th>previous</th>\n",
       "      <th>poutcome</th>\n",
       "      <th>y</th>\n",
       "    </tr>\n",
       "  </thead>\n",
       "  <tbody>\n",
       "    <tr>\n",
       "      <th>0</th>\n",
       "      <td>58</td>\n",
       "      <td>management</td>\n",
       "      <td>married</td>\n",
       "      <td>tertiary</td>\n",
       "      <td>no</td>\n",
       "      <td>2143</td>\n",
       "      <td>yes</td>\n",
       "      <td>no</td>\n",
       "      <td>unknown</td>\n",
       "      <td>5</td>\n",
       "      <td>may</td>\n",
       "      <td>261</td>\n",
       "      <td>1</td>\n",
       "      <td>-1</td>\n",
       "      <td>0</td>\n",
       "      <td>unknown</td>\n",
       "      <td>no</td>\n",
       "    </tr>\n",
       "    <tr>\n",
       "      <th>1</th>\n",
       "      <td>44</td>\n",
       "      <td>technician</td>\n",
       "      <td>single</td>\n",
       "      <td>secondary</td>\n",
       "      <td>no</td>\n",
       "      <td>29</td>\n",
       "      <td>yes</td>\n",
       "      <td>no</td>\n",
       "      <td>unknown</td>\n",
       "      <td>5</td>\n",
       "      <td>may</td>\n",
       "      <td>151</td>\n",
       "      <td>1</td>\n",
       "      <td>-1</td>\n",
       "      <td>0</td>\n",
       "      <td>unknown</td>\n",
       "      <td>no</td>\n",
       "    </tr>\n",
       "    <tr>\n",
       "      <th>2</th>\n",
       "      <td>33</td>\n",
       "      <td>entrepreneur</td>\n",
       "      <td>married</td>\n",
       "      <td>secondary</td>\n",
       "      <td>no</td>\n",
       "      <td>2</td>\n",
       "      <td>yes</td>\n",
       "      <td>yes</td>\n",
       "      <td>unknown</td>\n",
       "      <td>5</td>\n",
       "      <td>may</td>\n",
       "      <td>76</td>\n",
       "      <td>1</td>\n",
       "      <td>-1</td>\n",
       "      <td>0</td>\n",
       "      <td>unknown</td>\n",
       "      <td>no</td>\n",
       "    </tr>\n",
       "    <tr>\n",
       "      <th>3</th>\n",
       "      <td>47</td>\n",
       "      <td>blue-collar</td>\n",
       "      <td>married</td>\n",
       "      <td>unknown</td>\n",
       "      <td>no</td>\n",
       "      <td>1506</td>\n",
       "      <td>yes</td>\n",
       "      <td>no</td>\n",
       "      <td>unknown</td>\n",
       "      <td>5</td>\n",
       "      <td>may</td>\n",
       "      <td>92</td>\n",
       "      <td>1</td>\n",
       "      <td>-1</td>\n",
       "      <td>0</td>\n",
       "      <td>unknown</td>\n",
       "      <td>no</td>\n",
       "    </tr>\n",
       "    <tr>\n",
       "      <th>4</th>\n",
       "      <td>33</td>\n",
       "      <td>unknown</td>\n",
       "      <td>single</td>\n",
       "      <td>unknown</td>\n",
       "      <td>no</td>\n",
       "      <td>1</td>\n",
       "      <td>no</td>\n",
       "      <td>no</td>\n",
       "      <td>unknown</td>\n",
       "      <td>5</td>\n",
       "      <td>may</td>\n",
       "      <td>198</td>\n",
       "      <td>1</td>\n",
       "      <td>-1</td>\n",
       "      <td>0</td>\n",
       "      <td>unknown</td>\n",
       "      <td>no</td>\n",
       "    </tr>\n",
       "  </tbody>\n",
       "</table>\n",
       "</div>"
      ],
      "text/plain": [
       "   age           job  marital  education default  balance housing loan  \\\n",
       "0   58    management  married   tertiary      no     2143     yes   no   \n",
       "1   44    technician   single  secondary      no       29     yes   no   \n",
       "2   33  entrepreneur  married  secondary      no        2     yes  yes   \n",
       "3   47   blue-collar  married    unknown      no     1506     yes   no   \n",
       "4   33       unknown   single    unknown      no        1      no   no   \n",
       "\n",
       "   contact  day month  duration  campaign  pdays  previous poutcome   y  \n",
       "0  unknown    5   may       261         1     -1         0  unknown  no  \n",
       "1  unknown    5   may       151         1     -1         0  unknown  no  \n",
       "2  unknown    5   may        76         1     -1         0  unknown  no  \n",
       "3  unknown    5   may        92         1     -1         0  unknown  no  \n",
       "4  unknown    5   may       198         1     -1         0  unknown  no  "
      ]
     },
     "execution_count": 115,
     "metadata": {},
     "output_type": "execute_result"
    }
   ],
   "source": [
    "gemeter = pd.read_csv(r'Dataset_Homework_5\\bank-full.csv', delimiter=';')\n",
    "gemeter.head()"
   ]
  },
  {
   "cell_type": "code",
   "execution_count": 118,
   "metadata": {},
   "outputs": [
    {
     "data": {
      "text/html": [
       "<div>\n",
       "<style scoped>\n",
       "    .dataframe tbody tr th:only-of-type {\n",
       "        vertical-align: middle;\n",
       "    }\n",
       "\n",
       "    .dataframe tbody tr th {\n",
       "        vertical-align: top;\n",
       "    }\n",
       "\n",
       "    .dataframe thead th {\n",
       "        text-align: right;\n",
       "    }\n",
       "</style>\n",
       "<table border=\"1\" class=\"dataframe\">\n",
       "  <thead>\n",
       "    <tr style=\"text-align: right;\">\n",
       "      <th></th>\n",
       "      <th>age</th>\n",
       "      <th>balance</th>\n",
       "      <th>day</th>\n",
       "      <th>duration</th>\n",
       "      <th>campaign</th>\n",
       "      <th>pdays</th>\n",
       "      <th>previous</th>\n",
       "    </tr>\n",
       "  </thead>\n",
       "  <tbody>\n",
       "    <tr>\n",
       "      <th>count</th>\n",
       "      <td>45211.000000</td>\n",
       "      <td>45211.000000</td>\n",
       "      <td>45211.000000</td>\n",
       "      <td>45211.000000</td>\n",
       "      <td>45211.000000</td>\n",
       "      <td>45211.000000</td>\n",
       "      <td>45211.000000</td>\n",
       "    </tr>\n",
       "    <tr>\n",
       "      <th>mean</th>\n",
       "      <td>40.936210</td>\n",
       "      <td>1362.272058</td>\n",
       "      <td>15.806419</td>\n",
       "      <td>258.163080</td>\n",
       "      <td>2.763841</td>\n",
       "      <td>40.197828</td>\n",
       "      <td>0.580323</td>\n",
       "    </tr>\n",
       "    <tr>\n",
       "      <th>std</th>\n",
       "      <td>10.618762</td>\n",
       "      <td>3044.765829</td>\n",
       "      <td>8.322476</td>\n",
       "      <td>257.527812</td>\n",
       "      <td>3.098021</td>\n",
       "      <td>100.128746</td>\n",
       "      <td>2.303441</td>\n",
       "    </tr>\n",
       "    <tr>\n",
       "      <th>min</th>\n",
       "      <td>18.000000</td>\n",
       "      <td>-8019.000000</td>\n",
       "      <td>1.000000</td>\n",
       "      <td>0.000000</td>\n",
       "      <td>1.000000</td>\n",
       "      <td>-1.000000</td>\n",
       "      <td>0.000000</td>\n",
       "    </tr>\n",
       "    <tr>\n",
       "      <th>25%</th>\n",
       "      <td>33.000000</td>\n",
       "      <td>72.000000</td>\n",
       "      <td>8.000000</td>\n",
       "      <td>103.000000</td>\n",
       "      <td>1.000000</td>\n",
       "      <td>-1.000000</td>\n",
       "      <td>0.000000</td>\n",
       "    </tr>\n",
       "    <tr>\n",
       "      <th>50%</th>\n",
       "      <td>39.000000</td>\n",
       "      <td>448.000000</td>\n",
       "      <td>16.000000</td>\n",
       "      <td>180.000000</td>\n",
       "      <td>2.000000</td>\n",
       "      <td>-1.000000</td>\n",
       "      <td>0.000000</td>\n",
       "    </tr>\n",
       "    <tr>\n",
       "      <th>75%</th>\n",
       "      <td>48.000000</td>\n",
       "      <td>1428.000000</td>\n",
       "      <td>21.000000</td>\n",
       "      <td>319.000000</td>\n",
       "      <td>3.000000</td>\n",
       "      <td>-1.000000</td>\n",
       "      <td>0.000000</td>\n",
       "    </tr>\n",
       "    <tr>\n",
       "      <th>max</th>\n",
       "      <td>95.000000</td>\n",
       "      <td>102127.000000</td>\n",
       "      <td>31.000000</td>\n",
       "      <td>4918.000000</td>\n",
       "      <td>63.000000</td>\n",
       "      <td>871.000000</td>\n",
       "      <td>275.000000</td>\n",
       "    </tr>\n",
       "  </tbody>\n",
       "</table>\n",
       "</div>"
      ],
      "text/plain": [
       "                age        balance           day      duration      campaign  \\\n",
       "count  45211.000000   45211.000000  45211.000000  45211.000000  45211.000000   \n",
       "mean      40.936210    1362.272058     15.806419    258.163080      2.763841   \n",
       "std       10.618762    3044.765829      8.322476    257.527812      3.098021   \n",
       "min       18.000000   -8019.000000      1.000000      0.000000      1.000000   \n",
       "25%       33.000000      72.000000      8.000000    103.000000      1.000000   \n",
       "50%       39.000000     448.000000     16.000000    180.000000      2.000000   \n",
       "75%       48.000000    1428.000000     21.000000    319.000000      3.000000   \n",
       "max       95.000000  102127.000000     31.000000   4918.000000     63.000000   \n",
       "\n",
       "              pdays      previous  \n",
       "count  45211.000000  45211.000000  \n",
       "mean      40.197828      0.580323  \n",
       "std      100.128746      2.303441  \n",
       "min       -1.000000      0.000000  \n",
       "25%       -1.000000      0.000000  \n",
       "50%       -1.000000      0.000000  \n",
       "75%       -1.000000      0.000000  \n",
       "max      871.000000    275.000000  "
      ]
     },
     "execution_count": 118,
     "metadata": {},
     "output_type": "execute_result"
    }
   ],
   "source": [
    "gemeter.describe()"
   ]
  },
  {
   "cell_type": "code",
   "execution_count": 119,
   "metadata": {},
   "outputs": [
    {
     "name": "stdout",
     "output_type": "stream",
     "text": [
      "<class 'pandas.core.frame.DataFrame'>\n",
      "RangeIndex: 45211 entries, 0 to 45210\n",
      "Data columns (total 17 columns):\n",
      " #   Column     Non-Null Count  Dtype \n",
      "---  ------     --------------  ----- \n",
      " 0   age        45211 non-null  int64 \n",
      " 1   job        45211 non-null  object\n",
      " 2   marital    45211 non-null  object\n",
      " 3   education  45211 non-null  object\n",
      " 4   default    45211 non-null  object\n",
      " 5   balance    45211 non-null  int64 \n",
      " 6   housing    45211 non-null  object\n",
      " 7   loan       45211 non-null  object\n",
      " 8   contact    45211 non-null  object\n",
      " 9   day        45211 non-null  int64 \n",
      " 10  month      45211 non-null  object\n",
      " 11  duration   45211 non-null  int64 \n",
      " 12  campaign   45211 non-null  int64 \n",
      " 13  pdays      45211 non-null  int64 \n",
      " 14  previous   45211 non-null  int64 \n",
      " 15  poutcome   45211 non-null  object\n",
      " 16  y          45211 non-null  object\n",
      "dtypes: int64(7), object(10)\n",
      "memory usage: 5.9+ MB\n"
     ]
    }
   ],
   "source": [
    "gemeter.info()"
   ]
  },
  {
   "cell_type": "code",
   "execution_count": 122,
   "metadata": {},
   "outputs": [
    {
     "data": {
      "text/plain": [
       "np.int64(63)"
      ]
     },
     "execution_count": 122,
     "metadata": {},
     "output_type": "execute_result"
    }
   ],
   "source": [
    "gemeter['campaign'].max()"
   ]
  },
  {
   "cell_type": "code",
   "execution_count": 126,
   "metadata": {},
   "outputs": [
    {
     "data": {
      "image/png": "[encoded data removed]",
      "text/plain": [
       "<Figure size 640x480 with 1 Axes>"
      ]
     },
     "metadata": {},
     "output_type": "display_data"
    }
   ],
   "source": [
    "plt.hist(gemeter['campaign'])\n",
    "plt.show()"
   ]
  },
  {
   "cell_type": "code",
   "execution_count": 127,
   "metadata": {},
   "outputs": [
    {
     "data": {
      "image/png": "[encoded data removed]",
      "text/plain": [
       "<Figure size 1000x600 with 1 Axes>"
      ]
     },
     "metadata": {},
     "output_type": "display_data"
    }
   ],
   "source": [
    "#plot interquartile range\n",
    "plt.figure(figsize=(10, 6))\n",
    "sns.boxplot(x=gemeter['campaign'])\n",
    "plt.title('Boxplot of campaign')\n",
    "plt.xlabel('campaign')\n",
    "plt.show()"
   ]
  },
  {
   "cell_type": "code",
   "execution_count": 129,
   "metadata": {},
   "outputs": [
    {
     "name": "stdout",
     "output_type": "stream",
     "text": [
      "Interquartile Range of campaign: 2.0\n",
      "Upper Bound: 6.0\n",
      "Lower Bound: -2.0\n"
     ]
    }
   ],
   "source": [
    "iqr_mantap = gemeter['campaign'].quantile(0.75) - gemeter['campaign'].quantile(0.25)\n",
    "print(f\"Interquartile Range of campaign: {iqr_mantap}\")\n",
    "\n",
    "batas_atas = gemeter['campaign'].quantile(0.75) + 1.5 * iqr_mantap\n",
    "batas_bawah = gemeter['campaign'].quantile(0.25) - 1.5 * iqr_mantap\n",
    "print(f\"Upper Bound: {batas_atas}\")\n",
    "print(f\"Lower Bound: {batas_bawah}\")"
   ]
  },
  {
   "cell_type": "code",
   "execution_count": 138,
   "metadata": {},
   "outputs": [
    {
     "data": {
      "text/plain": [
       "np.int64(45211)"
      ]
     },
     "execution_count": 138,
     "metadata": {},
     "output_type": "execute_result"
    }
   ],
   "source": [
    "gemeter['campaign'].count()"
   ]
  },
  {
   "cell_type": "code",
   "execution_count": 139,
   "metadata": {},
   "outputs": [
    {
     "name": "stdout",
     "output_type": "stream",
     "text": [
      "396.4920742803271\n"
     ]
    }
   ],
   "source": [
    "gemeter['campaign'].count()\n",
    "e = 0.05\n",
    "#menghitung slovin untuk menentukan ukuran sampel \n",
    "n = gemeter['campaign'].count()\n",
    "n_slovin = n / (1 + n * e**2)\n",
    "print(n_slovin)"
   ]
  },
  {
   "cell_type": "code",
   "execution_count": 142,
   "metadata": {},
   "outputs": [
    {
     "data": {
      "text/html": [
       "<div>\n",
       "<style scoped>\n",
       "    .dataframe tbody tr th:only-of-type {\n",
       "        vertical-align: middle;\n",
       "    }\n",
       "\n",
       "    .dataframe tbody tr th {\n",
       "        vertical-align: top;\n",
       "    }\n",
       "\n",
       "    .dataframe thead th {\n",
       "        text-align: right;\n",
       "    }\n",
       "</style>\n",
       "<table border=\"1\" class=\"dataframe\">\n",
       "  <thead>\n",
       "    <tr style=\"text-align: right;\">\n",
       "      <th></th>\n",
       "      <th>count</th>\n",
       "      <th>mean</th>\n",
       "      <th>std</th>\n",
       "      <th>min</th>\n",
       "      <th>25%</th>\n",
       "      <th>50%</th>\n",
       "      <th>75%</th>\n",
       "      <th>max</th>\n",
       "    </tr>\n",
       "    <tr>\n",
       "      <th>y</th>\n",
       "      <th></th>\n",
       "      <th></th>\n",
       "      <th></th>\n",
       "      <th></th>\n",
       "      <th></th>\n",
       "      <th></th>\n",
       "      <th></th>\n",
       "      <th></th>\n",
       "    </tr>\n",
       "  </thead>\n",
       "  <tbody>\n",
       "    <tr>\n",
       "      <th>no</th>\n",
       "      <td>39922.0</td>\n",
       "      <td>2.846350</td>\n",
       "      <td>3.212767</td>\n",
       "      <td>1.0</td>\n",
       "      <td>1.0</td>\n",
       "      <td>2.0</td>\n",
       "      <td>3.0</td>\n",
       "      <td>63.0</td>\n",
       "    </tr>\n",
       "    <tr>\n",
       "      <th>yes</th>\n",
       "      <td>5289.0</td>\n",
       "      <td>2.141047</td>\n",
       "      <td>1.921826</td>\n",
       "      <td>1.0</td>\n",
       "      <td>1.0</td>\n",
       "      <td>2.0</td>\n",
       "      <td>3.0</td>\n",
       "      <td>32.0</td>\n",
       "    </tr>\n",
       "  </tbody>\n",
       "</table>\n",
       "</div>"
      ],
      "text/plain": [
       "       count      mean       std  min  25%  50%  75%   max\n",
       "y                                                         \n",
       "no   39922.0  2.846350  3.212767  1.0  1.0  2.0  3.0  63.0\n",
       "yes   5289.0  2.141047  1.921826  1.0  1.0  2.0  3.0  32.0"
      ]
     },
     "execution_count": 142,
     "metadata": {},
     "output_type": "execute_result"
    }
   ],
   "source": [
    "gemeter.groupby('y')['campaign'].describe()"
   ]
  },
  {
   "cell_type": "code",
   "execution_count": 154,
   "metadata": {},
   "outputs": [
    {
     "data": {
      "image/png": "[encoded data removed]",
      "text/plain": [
       "<Figure size 1000x600 with 1 Axes>"
      ]
     },
     "metadata": {},
     "output_type": "display_data"
    }
   ],
   "source": [
    "#plot untuk memeriksa apakah jumlah campaign mempengaruhi yes atau no, melihat mana yang lebih banyak\n",
    "plt.figure(figsize=(10, 6))\n",
    "sns.countplot(x='campaign', hue='y', data=gemeter)\n",
    "plt.title('Count of Campaign by Subscription Status')\n",
    "plt.xlabel('Number of Campaigns')\n",
    "plt.ylabel('Count')\n",
    "plt.legend(title='Subscription Status')\n",
    "plt.show()\n"
   ]
  },
  {
   "cell_type": "code",
   "execution_count": 156,
   "metadata": {},
   "outputs": [
    {
     "data": {
      "text/plain": [
       "(np.float64(90300543.5), np.float64(1.9484904873905108e-71))"
      ]
     },
     "execution_count": 156,
     "metadata": {},
     "output_type": "execute_result"
    }
   ],
   "source": [
    "from scipy.stats import mannwhitneyu\n",
    "\n",
    "yes = gemeter[gemeter['y'] == 'yes']['campaign']\n",
    "no = gemeter[gemeter['y'] == 'no']['campaign']\n",
    "\n",
    "stat, p_value = mannwhitneyu(yes, no, alternative='two-sided')\n",
    "\n",
    "(stat, p_value)"
   ]
  },
  {
   "cell_type": "code",
   "execution_count": 157,
   "metadata": {},
   "outputs": [
    {
     "name": "stdout",
     "output_type": "stream",
     "text": [
      "P-Value : 1.9484904873905108e-71\n",
      "cukup bukti jumlah campaign mampu membedakan user untuk membuka akun atau tidak\n"
     ]
    }
   ],
   "source": [
    "alpha = 0.05\n",
    "print('P-Value :',p_value)\n",
    "\n",
    "if p_value >= alpha:\n",
    "    print('Tidak cukup bukti jumlah campaign mampu membedakan user untuk membuka akun atau tidak')\n",
    "else:\n",
    "    print('cukup bukti jumlah campaign mampu membedakan user untuk membuka akun atau tidak')"
   ]
  },
  {
   "cell_type": "markdown",
   "metadata": {},
   "source": [
    "### `Pemahaman Konsep A/B Testing`\n",
    "\n",
    "#### `Apa nama experiment-nya?`\n",
    "**Campaign Effectiveness Experiment**  \n",
    "Eksperimen ini bertujuan untuk menguji apakah **jumlah campaign** (frekuensi kontak marketing ke nasabah) mampu meningkatkan keinginan nasabah untuk membuka akun **deposito**.\n",
    "\n",
    "\n",
    "#### `Definisikan Hipotesis`\n",
    "- Hipotesis Nol **(H₀): jumlah campaign nasabah yang membuka akun **sama** dengan yang tidak membuka akun .**\n",
    "- Hipotesis Alternatif **(H₁): jumlah campaign nasabah yang membuka akun **berbeda** dengan yang tidak membuka akun.**\n",
    "\n",
    "\n",
    "#### `Siapa participant-nya?`\n",
    "Nasabah bank yang dihubungi oleh marketing dan memiliki data lengkap\n",
    "\n",
    "\n",
    "#### `Variabel yang akan diuji`\n",
    "- jumlah campaign\n",
    "\n",
    "\n",
    "#### `Metrics yang digunakan`\n",
    "- Conversion rate dipilih sebagai macroconversion metric karena merupakan tujuan utama eksperimen: ingin tahu apakah user jadi membuka akun setelah dikirimi campaign.\n",
    "\n",
    "#### `Berapa sample size dan durasi experiment?`\n",
    "- **sample:** 396 sampel dengan error 0.05 atau 5% karena sering digunakan (mengacu pada modul LMS)\n",
    "- **Durasi:** 12 jam\n",
    "\n",
    "<img src=\"modul1.png\" width=\"400\"/>\n",
    "\n"
   ]
  },
  {
   "attachments": {
    "image-2.png": {
     "image/png": "[encoded data removed]"
    }
   },
   "cell_type": "markdown",
   "metadata": {},
   "source": [
    "### `Pengujian Hipotesis`\n",
    "\n",
    "#### `Penentuan Hipotesis`\n",
    "- Hipotesis Nol **(H₀): jumlah campaign nasabah yang membuka akun **sama** dengan yang tidak membuka akun .**\n",
    "- Hipotesis Alternatif **(H₁): jumlah campaign nasabah yang membuka akun **berbeda** dengan yang tidak membuka akun.**\n",
    "\n",
    "#### `Pengujian yang Digunakan`\n",
    "\n",
    "Dari hasil analisa didapatkan nilai mean lebih tinggi ketimbang nilai q2 maka:\n",
    "- Kolom campaign memiliki distribusi yang skewed (condong kanan) yang dapat dilihat pada plot.\n",
    "- Banyak outlier pada jumlah campaign.\n",
    "- Mean tidak representatif, sehingga lebih baik menggunakan metode non parametrik\n",
    "\n",
    "Uji Mann Whitney U Test, yaitu uji non parametrik dua sampel independen yang tidak mengasumsikan distribusi normal. cara kerjanya mirip seperti kruskal wallis yang menggunakan peringkat, ini rumusnya\n",
    "\n",
    "![image-2.png](attachment:image-2.png)\n",
    "\n",
    "Mann-Whitney U Test menghitung dua nilai statistik yang disebut:\n",
    "\n",
    "U₁ = jumlah kemenangan grup 1 terhadap grup 2\n",
    "\n",
    "U₂ = jumlah kemenangan grup 2 terhadap grup 1\n",
    "\n",
    "Kemenangan = saat data dari satu grup memiliki peringkat lebih tinggi dari grup lain.\n",
    "\n",
    "`contoh`\n",
    "\n",
    "Kita punya dua grup:\n",
    "\n",
    "Grup A (y = yes): [3, 5, 6]\n",
    "\n",
    "Grup B (y = no): [2, 4, 8]\n",
    "\n",
    "Gabungkan dan urutkan semua nilai:\n",
    "2 (B), 3 (A), 4 (B), 5 (A), 6 (A), 8 (B)\n",
    "\n",
    "Lalu hitung berapa kali setiap elemen di grup A menang melawan B:\n",
    "\n",
    "3 > 2 → menang\n",
    "\n",
    "5 > 2, 4 → menang 2x\n",
    "\n",
    "6 > 2, 4 → menang 2x\n",
    "\n",
    "Total menang = U₁ = 5\n",
    "Sebaliknya, U₂ dihitung dari sudut pandang grup B.\n",
    "\n",
    "Setelah dapat U₁ dan U₂, kita ambil nilai yang lebih kecil untuk dibandingkan ke tabel distribusi U (kalau hitung manual), atau langsung hitung p-value (kalau pakai scipy.stats.mannwhitneyu cara gacor dan simpel).\n",
    "\n",
    "#### `Deteksi Asumsi dan Penanganannya`\n",
    "-  Data berskala ordinal/interval campaign adalah data numerik diskrit.\n",
    "-  Dua kelompok independen yes dan  no.\n",
    "-  Data tidak terdistribusi normal maka tidak cocok untuk uji t.\n",
    "\n",
    "Penanganan:\n",
    "- Digunakan **uji non-parametrik** Mann Whitney U Test, yang **tidak mengasumsikan normalitas** dan **tahan terhadap outlier**\n",
    "\n",
    "#### `Hasil Pengujian Hipotesis`\n",
    "didapatkan hasil (np.float64(90300543.5), np.float64(1.9484904873905108e-71)).\n",
    "### **Karena p-value < 0.05, maka kita punya cukup bukti untuk menerima H1.**\n",
    "\n",
    "#### `Kesimpulan dan Interpretasi`\n",
    "Dengan demikian, hipotesis nol (H₀) yang menyatakan bahwa jumlah campaign nasabah yang membuka akun sama dengan yang tidak membuka akun **ditolak**, dan kita **menerima hipotesis alternatif (H₁)**, yaitu bahwa jumlah campaign nasabah yang membuka akun berbeda dengan yang tidak membuka akun.\n",
    "\n",
    "Artinya, jumlah campaign yang dilakukan memang memiliki perbedaan yang signifikan antara kedua kelompok nasabah tersebut, sehingga dapat diasumsikan bahwa campaign yang diberikan dapat berdampak terhadap keputusan nasabah dalam membuka akun.\n",
    "\n",
    "Dengan meninjau bahwa nilai median menjadi nilai representatif dari jumlah campaign mengingat bahwa besarnya nilai outlier yang ada dalam data. maka didapatkan bahwa Walaupun nilai median campaign kedua kelompok sama (yaitu 2), data menunjukkan bahwa nasabah yang tidak membuka akun (y = no) memiliki rata-rata campaign yang lebih tinggi (mean = 2.85) dan sebaran yang lebih luas, dengan outlier mencapai 63 campaign. Sementara kelompok yang membuka akun (y = yes) memiliki rata-rata lebih rendah (mean = 2.14) dan sebaran lebih sempit.\n",
    "\n",
    "Hal ini menunjukkan bahwa campaign berlebihan tidak selalu efektif, bahkan bisa berdampak negatif.\n",
    "Dengan kata lain, jumlah campaign yang terlalu banyak justru berhubungan dengan penolakan membuka akun.\n",
    "\n",
    "\n"
   ]
  }
 ],
 "metadata": {
  "kernelspec": {
   "display_name": ".venv",
   "language": "python",
   "name": "python3"
  },
  "language_info": {
   "codemirror_mode": {
    "name": "ipython",
    "version": 3
   },
   "file_extension": ".py",
   "mimetype": "text/x-python",
   "name": "python",
   "nbconvert_exporter": "python",
   "pygments_lexer": "ipython3",
   "version": "3.9.12"
  }
 },
 "nbformat": 4,
 "nbformat_minor": 2
}
